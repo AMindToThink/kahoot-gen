{
 "cells": [
  {
   "cell_type": "code",
   "metadata": {},
   "outputs": [],
   "source": [
    "import requests\n",
    "from typing import List,Tuple, Optional\n",
    "import json\n",
    "\n",
    "# construct the URL for the HTTP GET call\n",
    "endpointUrl = 'https://query.wikidata.org/sparql'"
   ]
  },
  {
   "cell_type": "code",
   "metadata": {},
   "outputs": [],
   "source": [
    "# See https://meta.wikimedia.org/wiki/User-Agent_policy for details of Wikimedia User-Agent policy\n",
    "# search_cirrus.py, containing a function for performing a Cirrus search of Wikidata (or other wikibase) using its API.\n",
    "version = '0.1.0'\n",
    "created = '2023-02-22'\n",
    "user_agent_header = 'VanderSearchBot/' + version + ' (https://github.com/HeardLibrary/linked-data/tree/master/vanderbot; mailto:steve.baskauf@vanderbilt.edu)'\n",
    "request_header_dictionary = {\n",
    "\t'Accept' : 'application/json',\n",
    "\t'User-Agent': user_agent_header\n",
    "}\n",
    "search_session = requests.Session()\n",
    "# Set default User-Agent header so yo\n",
    "# Set default User-Agent header so you don't have to send it with every request\n",
    "search_session.headers.update(request_header_dictionary)"
   ]
  },
  {
   "cell_type": "code",
   "metadata": {},
   "outputs": [],
   "source": [
    "\n",
    "#This section was \n",
    "def search_cirrus(search_string: str, http: requests.Session, api_endpoint='https://www.wikidata.org/w/api.php') -> List[dict]:\n",
    "\t\"\"\"Search for a string using CirrusSearch (Elastic-based search engine)\n",
    "\n",
    "\tParameters\n",
    "\t----------\n",
    "\tsearch_string : str\n",
    "\t\tString to use in elastic search, produces same results as the Wikidata search box\n",
    "\thttp : requests.Session\n",
    "\t\tRequests HTTP session to use for search calls\n",
    "\tapi_endpoint : str\n",
    "\t\tURL of the endpoint, defaults to Wikidata\n",
    "\t\n",
    "\tReturns\n",
    "\t-------\n",
    "\tList[dict] : List of search results with keys \"qid\", \"description\", and \"label\"\n",
    "\t\"\"\"\n",
    "\trequest_string = '''{\n",
    "\t\t\"action\": \"query\",\n",
    "\t\t\"format\": \"json\",\n",
    "\t\t\"list\": \"search\",\n",
    "\t\t\"formatversion\": \"2\",\n",
    "\t\t\"srsearch\": \"''' + search_string + '''\"\n",
    "\t}'''\n",
    "\n",
    "\tresponse = http.get(api_endpoint, params=json.loads(request_string))\n",
    "\tdata = response.json()\n",
    "\n",
    "\thits = data['query']['search']\n",
    "\n",
    "\t# Look up the label for each item\n",
    "\tfor index, hit in enumerate(hits):\n",
    "\t\t# \"title\" in the search results is the Q ID\t\t\n",
    "\t\trequest_string = '''{\n",
    "\t\t\t\"action\": \"wbgetentities\",\n",
    "\t\t\t\"format\": \"json\",\n",
    "\t\t\t\"ids\": \"''' + hit['title'] + '''\",\n",
    "\t\t\t\"props\": \"labels\"\n",
    "\t\t}'''\n",
    "\t\tresponse = http.get(api_endpoint, params=json.loads(request_string))\n",
    "\t\tdata = response.json()\n",
    "\t\t#print(json.dumps(data, indent=2))\n",
    "\n",
    "\t\t# Match the Q ID to the label and add the label to the hits list\n",
    "\t\ttry:\n",
    "\t\t\thits[index]['label'] = data['entities'][hit['title']]['labels']['en']['value']\n",
    "\t\texcept:\n",
    "\t\t\thits[index]['label'] = ''\n",
    "\n",
    "\t#print(json.dumps(hits, indent=2))\n",
    "\n",
    "\t# Clean up the hits list by removing useless keys and renaming others\n",
    "\tclean_hits = []\n",
    "\tfor hit in hits:\n",
    "\t\tdel hit['ns']\n",
    "\t\tdel hit['pageid']\n",
    "\t\tdel hit['size']\n",
    "\t\tdel hit['wordcount']\n",
    "\t\tdel hit['timestamp']\n",
    "\t\thit['qid'] = hit['title']\n",
    "\t\tdel hit['title']\n",
    "\t\thit['description'] = hit['snippet']\n",
    "\t\tdel hit['snippet']\n",
    "\t\tclean_hits.append(hit)\n",
    "\n",
    "\n",
    "\treturn clean_hits"
   ]
  },
  {
   "cell_type": "code",
   "metadata": {},
   "outputs": [],
   "source": [
    "def disambiguate(input_question):\n",
    "    multiple_question = {}\n",
    "    i = 1\n",
    "    print(\"- Multiple Items came up when you searched '\", input_question, \", Did you mean:\")\n",
    "    hits = search_cirrus(input_question, search_session)\n",
    "    # print(json.dumps(hits, indent=2))\n",
    "    for entry in hits:\n",
    "        multiple_question[i] = [entry.get(\"description\"), entry.get(\"qid\")]\n",
    "        print( \"-\", i,  entry.get(\"description\"))\n",
    "        i = i + 1\n",
    "    # Taking user input and converting it to an integer\n",
    "    user_input = int(input(\"Enter the corresponding number you mean: \"))\n",
    "    print('The user input is:', user_input )\n",
    "    answer = multiple_question.get(user_input)\n",
    "    print(\"The selected answer:\", answer[0], \"and the Qid:\", answer[1])\n",
    "    # return answer\n",
    "\n",
    "# disambiguate('Geese')\n"
   ]
  },
  {
   "cell_type": "code",
   "execution_count": 29,
   "metadata": {},
   "outputs": [],
   "source": [
    "def get_answer_qid(input_question):\n",
    "    # search_string = 'Who won the grammy'\n",
    "    qid = []\n",
    "    hits = search_cirrus(input_question, search_session)\n",
    "    # print(json.dumps(hits, indent=2))\n",
    "    for entry in hits:\n",
    "        qid.append(entry.get(\"qid\"))\n",
    "    return qid\n",
    "# get_answer_qid('Geese')\n"
   ]
  },
  {
   "cell_type": "code",
   "execution_count": 9,
   "metadata": {},
   "outputs": [],
   "source": [
    "#generate the answers\n",
    "def construct_query():\n",
    "  for item in returned_qid:\n",
    "    query = '''\n",
    "    PREFIX wd: <http://www.wikidata.org/entity/>\n",
    "    CONSTRUCT {\n",
    "      wd:''' + item + ''' ?p1 ?o.\n",
    "      ?s ?p2 wd:''' + item + '''.\n",
    "    }\n",
    "    WHERE {\n",
    "      {wd:''' + item + ''' ?p1 ?o.}\n",
    "      UNION\n",
    "      {?s ?p2 wd:''' + item + '''.}\n",
    "    }\n",
    "    '''\n",
    "    print(query)"
   ]
  },
  {
   "cell_type": "code",
   "execution_count": 30,
   "metadata": {},
   "outputs": [],
   "source": [
    "# construct_query()"
   ]
  },
  {
   "cell_type": "code",
   "execution_count": null,
   "metadata": {},
   "outputs": [],
   "source": []
  }
 ],
 "metadata": {
  "kernelspec": {
   "display_name": "Python 3",
   "language": "python",
   "name": "python3"
  },
  "language_info": {
   "codemirror_mode": {
    "name": "ipython",
    "version": 3
   },
   "file_extension": ".py",
   "mimetype": "text/x-python",
   "name": "python",
   "nbconvert_exporter": "python",
   "pygments_lexer": "ipython3",
   "version": "3.12.1"
  }
 },
 "nbformat": 4,
 "nbformat_minor": 2
}
