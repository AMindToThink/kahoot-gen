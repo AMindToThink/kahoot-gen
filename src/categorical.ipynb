{
 "cells": [
  {
   "cell_type": "code",
   "execution_count": 12,
   "metadata": {},
   "outputs": [],
   "source": [
    "import requests\n",
    "from typing import List, Dict, Tuple, Any, Optional\n",
    "import json\n",
    "\n",
    "# here's the item to be retrieved\n",
    "item = 'Q42'\n",
    "# construct the URL for the HTTP GET call\n",
    "endpointUrl = 'https://query.wikidata.org/sparql'"
   ]
  },
  {
   "cell_type": "code",
   "execution_count": 13,
   "metadata": {},
   "outputs": [
    {
     "name": "stdout",
     "output_type": "stream",
     "text": [
      "\n",
      "PREFIX wd: <http://www.wikidata.org/entity/>\n",
      "CONSTRUCT {\n",
      "  wd:Q42 ?p1 ?o.\n",
      "  ?s ?p2 wd:Q42.\n",
      "}\n",
      "WHERE {\n",
      "  {wd:Q42 ?p1 ?o.}\n",
      "  UNION\n",
      "  {?s ?p2 wd:Q42.}\n",
      "}\n",
      "\n"
     ]
    }
   ],
   "source": [
    "query = '''\n",
    "PREFIX wd: <http://www.wikidata.org/entity/>\n",
    "CONSTRUCT {\n",
    "  wd:''' + item + ''' ?p1 ?o.\n",
    "  ?s ?p2 wd:''' + item + '''.\n",
    "}\n",
    "WHERE {\n",
    "  {wd:''' + item + ''' ?p1 ?o.}\n",
    "  UNION\n",
    "  {?s ?p2 wd:''' + item + '''.}\n",
    "}\n",
    "'''\n",
    "print(query)"
   ]
  },
  {
   "cell_type": "code",
   "execution_count": 14,
   "metadata": {},
   "outputs": [],
   "source": [
    "# See https://meta.wikimedia.org/wiki/User-Agent_policy for details of Wikimedia User-Agent policy\n",
    "# search_cirrus.py, containing a function for performing a Cirrus search of Wikidata (or other wikibase) using its API.\n",
    "version = '0.1.0'\n",
    "created = '2023-02-22'\n",
    "user_agent_header = 'VanderSearchBot/' + version + ' (https://github.com/HeardLibrary/linked-data/tree/master/vanderbot; mailto:steve.baskauf@vanderbilt.edu)'\n",
    "request_header_dictionary = {\n",
    "\t'Accept' : 'application/json',\n",
    "\t'User-Agent': user_agent_header\n",
    "}\n",
    "search_session = requests.Session()\n",
    "# Set default User-Agent header so yo\n",
    "# Set default User-Agent header so you don't have to send it with every request\n",
    "search_session.headers.update(request_header_dictionary)"
   ]
  },
  {
   "cell_type": "code",
   "execution_count": 15,
   "metadata": {},
   "outputs": [],
   "source": [
    "\n",
    "\n",
    "def search_cirrus(search_string: str, http: requests.Session, api_endpoint='https://www.wikidata.org/w/api.php') -> List[dict]:\n",
    "\t\"\"\"Search for a string using CirrusSearch (Elastic-based search engine)\n",
    "\n",
    "\tParameters\n",
    "\t----------\n",
    "\tsearch_string : str\n",
    "\t\tString to use in elastic search, produces same results as the Wikidata search box\n",
    "\thttp : requests.Session\n",
    "\t\tRequests HTTP session to use for search calls\n",
    "\tapi_endpoint : str\n",
    "\t\tURL of the endpoint, defaults to Wikidata\n",
    "\t\n",
    "\tReturns\n",
    "\t-------\n",
    "\tList[dict] : List of search results with keys \"qid\", \"description\", and \"label\"\n",
    "\t\"\"\"\n",
    "\trequest_string = '''{\n",
    "\t\t\"action\": \"query\",\n",
    "\t\t\"format\": \"json\",\n",
    "\t\t\"list\": \"search\",\n",
    "\t\t\"formatversion\": \"2\",\n",
    "\t\t\"srsearch\": \"''' + search_string + '''\"\n",
    "\t}'''\n",
    "\n",
    "\tresponse = http.get(api_endpoint, params=json.loads(request_string))\n",
    "\tdata = response.json()\n",
    "\t#print(json.dumps(data, indent=2))\n",
    "\n",
    "\thits = data['query']['search']\n",
    "\n",
    "\t# Look up the label for each item\n",
    "\tfor index, hit in enumerate(hits):\n",
    "\t\t# \"title\" in the search results is the Q ID\t\t\n",
    "\t\trequest_string = '''{\n",
    "\t\t\t\"action\": \"wbgetentities\",\n",
    "\t\t\t\"format\": \"json\",\n",
    "\t\t\t\"ids\": \"''' + hit['title'] + '''\",\n",
    "\t\t\t\"props\": \"labels\"\n",
    "\t\t}'''\n",
    "\t\tresponse = http.get(api_endpoint, params=json.loads(request_string))\n",
    "\t\tdata = response.json()\n",
    "\t\t#print(json.dumps(data, indent=2))\n",
    "\n",
    "\t\t# Match the Q ID to the label and add the label to the hits list\n",
    "\t\ttry:\n",
    "\t\t\thits[index]['label'] = data['entities'][hit['title']]['labels']['en']['value']\n",
    "\t\texcept:\n",
    "\t\t\thits[index]['label'] = ''\n",
    "\n",
    "\t#print(json.dumps(hits, indent=2))\n",
    "\n",
    "\t# Clean up the hits list by removing useless keys and renaming others\n",
    "\tclean_hits = []\n",
    "\tfor hit in hits:\n",
    "\t\tdel hit['ns']\n",
    "\t\tdel hit['pageid']\n",
    "\t\tdel hit['size']\n",
    "\t\tdel hit['wordcount']\n",
    "\t\tdel hit['timestamp']\n",
    "\t\thit['qid'] = hit['title']\n",
    "\t\tdel hit['title']\n",
    "\t\thit['description'] = hit['snippet']\n",
    "\t\tdel hit['snippet']\n",
    "\t\tclean_hits.append(hit)\n",
    "\n",
    "\n",
    "\treturn clean_hits"
   ]
  },
  {
   "cell_type": "code",
   "execution_count": 21,
   "metadata": {},
   "outputs": [
    {
     "data": {
      "text/plain": [
       "['Q828',\n",
       " 'Q30',\n",
       " 'Q482262',\n",
       " 'Q49',\n",
       " 'Q126852',\n",
       " 'Q18',\n",
       " 'Q27611',\n",
       " 'Q2842807',\n",
       " 'Q2844832',\n",
       " 'Q4630358']"
      ]
     },
     "execution_count": 21,
     "metadata": {},
     "output_type": "execute_result"
    }
   ],
   "source": [
    "def get_answer_qid(input_question):\n",
    "    # search_string = 'Who won the grammy'\n",
    "    qid = []\n",
    "    hits = search_cirrus(input_question, search_session)\n",
    "    # print(json.dumps(hits, indent=2))\n",
    "    for entry in hits:\n",
    "        qid.append(entry.get(\"qid\"))\n",
    "    return qid\n",
    "returned_qid = get_answer_qid('America')\n",
    "returned_qid"
   ]
  },
  {
   "cell_type": "code",
   "execution_count": 20,
   "metadata": {},
   "outputs": [
    {
     "name": "stdout",
     "output_type": "stream",
     "text": [
      "\n",
      "  PREFIX wd: <http://www.wikidata.org/entity/>\n",
      "  CONSTRUCT {\n",
      "    wd:Q8275035 ?p1 ?o.\n",
      "    ?s ?p2 wd:Q8275035.\n",
      "  }\n",
      "  WHERE {\n",
      "    {wd:Q8275035 ?p1 ?o.}\n",
      "    UNION\n",
      "    {?s ?p2 wd:Q8275035.}\n",
      "  }\n",
      "  \n"
     ]
    }
   ],
   "source": [
    "#generate the answers\n",
    "def construct_query():\n",
    "  for item in returned_qid:\n",
    "    query = '''\n",
    "    PREFIX wd: <http://www.wikidata.org/entity/>\n",
    "    CONSTRUCT {\n",
    "      wd:''' + item + ''' ?p1 ?o.\n",
    "      ?s ?p2 wd:''' + item + '''.\n",
    "    }\n",
    "    WHERE {\n",
    "      {wd:''' + item + ''' ?p1 ?o.}\n",
    "      UNION\n",
    "      {?s ?p2 wd:''' + item + '''.}\n",
    "    }\n",
    "    '''\n",
    "    print(query)"
   ]
  },
  {
   "cell_type": "code",
   "execution_count": null,
   "metadata": {},
   "outputs": [],
   "source": []
  }
 ],
 "metadata": {
  "kernelspec": {
   "display_name": "Python 3",
   "language": "python",
   "name": "python3"
  },
  "language_info": {
   "codemirror_mode": {
    "name": "ipython",
    "version": 3
   },
   "file_extension": ".py",
   "mimetype": "text/x-python",
   "name": "python",
   "nbconvert_exporter": "python",
   "pygments_lexer": "ipython3",
   "version": "3.12.0"
  }
 },
 "nbformat": 4,
 "nbformat_minor": 2
}
