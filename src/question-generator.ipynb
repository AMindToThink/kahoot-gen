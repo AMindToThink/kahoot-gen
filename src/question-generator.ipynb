{
 "cells": [
  {
   "cell_type": "code",
   "execution_count": 1,
   "metadata": {},
   "outputs": [
    {
     "name": "stderr",
     "output_type": "stream",
     "text": [
      "/var/folders/g_/12fwrqfs2lgcf9rnql4m440dx849vl/T/ipykernel_78786/712753261.py:3: DeprecationWarning: \n",
      "Pyarrow will become a required dependency of pandas in the next major release of pandas (pandas 3.0),\n",
      "(to allow more performant data types, such as the Arrow string type, and better interoperability with other libraries)\n",
      "but was not found to be installed on your system.\n",
      "If this would cause problems for you,\n",
      "please provide us feedback at https://github.com/pandas-dev/pandas/issues/54466\n",
      "        \n",
      "  import pandas\n"
     ]
    }
   ],
   "source": [
    "import requests\n",
    "from SPARQLWrapper import SPARQLWrapper, JSON\n",
    "import pandas"
   ]
  },
  {
   "cell_type": "code",
   "execution_count": 2,
   "metadata": {},
   "outputs": [
    {
     "name": "stdout",
     "output_type": "stream",
     "text": [
      "On what topic do you want questions?\n",
      "How many questions do you want?\n"
     ]
    },
    {
     "ename": "ValueError",
     "evalue": "invalid literal for int() with base 10: ''",
     "output_type": "error",
     "traceback": [
      "\u001b[0;31m---------------------------------------------------------------------------\u001b[0m",
      "\u001b[0;31mValueError\u001b[0m                                Traceback (most recent call last)",
      "Cell \u001b[0;32mIn[2], line 4\u001b[0m\n\u001b[1;32m      2\u001b[0m topic \u001b[38;5;241m=\u001b[39m \u001b[38;5;28minput\u001b[39m()\n\u001b[1;32m      3\u001b[0m \u001b[38;5;28mprint\u001b[39m(\u001b[38;5;124m\"\u001b[39m\u001b[38;5;124mHow many questions do you want?\u001b[39m\u001b[38;5;124m\"\u001b[39m)\n\u001b[0;32m----> 4\u001b[0m num_questions \u001b[38;5;241m=\u001b[39m \u001b[38;5;28;43mint\u001b[39;49m\u001b[43m(\u001b[49m\u001b[38;5;28;43minput\u001b[39;49m\u001b[43m(\u001b[49m\u001b[43m)\u001b[49m\u001b[43m)\u001b[49m\n",
      "\u001b[0;31mValueError\u001b[0m: invalid literal for int() with base 10: ''"
     ]
    }
   ],
   "source": [
    "print(\"On what topic do you want questions?\")\n",
    "topic = input()\n",
    "print(\"How many questions do you want?\")\n",
    "num_questions = int(input())"
   ]
  },
  {
   "cell_type": "code",
   "execution_count": 11,
   "metadata": {},
   "outputs": [],
   "source": [
    "sparql = SPARQLWrapper(\"https://query.wikidata.org/sparql\")"
   ]
  },
  {
   "cell_type": "code",
   "execution_count": 3,
   "metadata": {},
   "outputs": [],
   "source": [
    "wikidata_property_example = \"P1855\""
   ]
  },
  {
   "cell_type": "code",
   "execution_count": 48,
   "metadata": {},
   "outputs": [],
   "source": [
    "def display_as_table(results, items):\n",
    "    df = pandas.DataFrame.from_dict(results[\"results\"][\"bindings\"])\n",
    "    df = df.applymap(lambda x: x[\"value\"])\n",
    "    pandas.set_option('display.max_rows', items)\n",
    "    print(df)"
   ]
  },
  {
   "cell_type": "code",
   "execution_count": 5,
   "metadata": {},
   "outputs": [],
   "source": [
    "def find_uri_by_label(label):\n",
    "    sparql = SPARQLWrapper(\"https://query.wikidata.org/sparql\")\n",
    "    \n",
    "    # SPARQL query to find the URI for a given label\n",
    "    query = \"\"\"\n",
    "    SELECT ?item WHERE {\n",
    "      ?item rdfs:label \"%s\"@en.\n",
    "      SERVICE wikibase:label { bd:serviceParam wikibase:language \"[AUTO_LANGUAGE],en\". }\n",
    "    }\n",
    "    LIMIT 1\n",
    "    \"\"\" % label.replace('\"', '\\\"')  # Basic string sanitization\n",
    "    \n",
    "    sparql.setQuery(query)\n",
    "    sparql.setReturnFormat(JSON)\n",
    "    \n",
    "    try:\n",
    "        results = sparql.query().convert()\n",
    "        for result in results[\"results\"][\"bindings\"]:\n",
    "            return result[\"item\"][\"value\"]  # Return the first matching URI\n",
    "    except Exception as e:\n",
    "        print(f\"An error occurred: {e}\")\n",
    "        return None"
   ]
  },
  {
   "cell_type": "code",
   "execution_count": 6,
   "metadata": {},
   "outputs": [],
   "source": [
    "def run_sparql(sparql_query):\n",
    "    print(sparql_query)\n",
    "    # Set the query and the return format (JSON)\n",
    "    sparql.setQuery(sparql_query)\n",
    "    sparql.setReturnFormat(JSON)\n",
    "\n",
    "    # Perform the query and convert the result to a Python dictionary\n",
    "    results = sparql.query().convert()\n",
    "    return results"
   ]
  },
  {
   "cell_type": "code",
   "execution_count": 7,
   "metadata": {},
   "outputs": [],
   "source": [
    "def find_Q_by_uri(uri):\n",
    "    return uri.split(\"/\")[-1]"
   ]
  },
  {
   "cell_type": "code",
   "execution_count": 8,
   "metadata": {},
   "outputs": [],
   "source": [
    "def find_Q_by_label(label):\n",
    "    return find_Q_by_uri(find_uri_by_label(label))"
   ]
  },
  {
   "cell_type": "code",
   "execution_count": 86,
   "metadata": {},
   "outputs": [
    {
     "name": "stderr",
     "output_type": "stream",
     "text": [
      "<>:8: SyntaxWarning: invalid escape sequence '\\{'\n",
      "<>:8: SyntaxWarning: invalid escape sequence '\\{'\n",
      "/var/folders/g_/12fwrqfs2lgcf9rnql4m440dx849vl/T/ipykernel_78786/2283485519.py:8: SyntaxWarning: invalid escape sequence '\\{'\n",
      "  exeptions = [\"FILTER NOT EXISTS \\{?item \" + exception + \" }\\n\" for exception in exceptions]\n"
     ]
    }
   ],
   "source": [
    "# I checked all of the ?predicates offered by ChatGPT and they are sensible\n",
    "# wdt:P31 \"instance of\" and wdt:P21 \"sex or gender\" removed\n",
    "sensible_sister_predicates = \"wdt:P279 wdt:P361 wdt:P101 wdt:P361 wdt:P921 wdt:P131 wdt:P150\"\n",
    "named_after = \" wdt:P138\"\n",
    "sensible_sister_predicates += named_after\n",
    "\n",
    "def sister_topic(topicQ, predicates=sensible_sister_predicates, exceptions=[]):\n",
    "    exeptions = [\"FILTER NOT EXISTS \\{?item \" + exception + \" }\\n\" for exception in exceptions]\n",
    "    #SPARQL query to find topics that are similar to the given topic\n",
    "    query = \"\"\"\n",
    "    SELECT DISTINCT ?item ?label WHERE {\n",
    "        VALUES ?predicates { \"\"\" + predicates + \"\"\" }\n",
    "        wd:\"\"\" + topicQ +  \"\"\" ?predicates ?class.\n",
    "        ?item ?predicates ?class.\n",
    "        ?item rdfs:label ?label.\n",
    "        FILTER(LANG(?label) = \"en\")\n",
    "        FILTER(?item != wd:\"\"\" + topicQ +  \"\"\")\n",
    "        \"\"\" + \"\".join(exeptions) + \"\"\"\n",
    "        SERVICE wikibase:label { bd:serviceParam wikibase:language \"[AUTO_LANGUAGE],en\". }\n",
    "    }\n",
    "    LIMIT 100\n",
    "    \"\"\"\n",
    "    # query = \"\"\"SELECT ?item (GROUP_CONCAT(DISTINCT ?predicate; separator=\", \") AS ?predicates)\n",
    "    #             (GROUP_CONCAT(DISTINCT ?label; separator=\", \") AS ?labels) \n",
    "    #             WHERE {\n",
    "    #                 VALUES ?predicate { \"\"\" + predicates + \"\"\" }\n",
    "    #                 wd:\"\"\" + topicQ + \"\"\" ?predicate ?class.\n",
    "    #                 ?item ?predicate ?class.\n",
    "    #                 ?item rdfs:label ?label.\n",
    "    #                 FILTER(?item != wd:\"\"\" + topicQ + \"\"\")\n",
    "                    \n",
    "    #                 SERVICE wikibase:label { bd:serviceParam wikibase:language \"[AUTO_LANGUAGE],en\". }\n",
    "    #             }\n",
    "    #             GROUP BY ?item\n",
    "    #             LIMIT 100\"\"\"\n",
    "\n",
    "    return run_sparql(query)"
   ]
  },
  {
   "cell_type": "code",
   "execution_count": 87,
   "metadata": {},
   "outputs": [
    {
     "name": "stdout",
     "output_type": "stream",
     "text": [
      "\n",
      "    SELECT DISTINCT ?label ?item WHERE {\n",
      "        VALUES ?predicates { wdt:P279 wdt:P361 wdt:P101 wdt:P361 wdt:P921 wdt:P131 wdt:P150 wdt:P138 }\n",
      "        wd:Q13365740 ?predicates ?class.\n",
      "        ?item ?predicates ?class.\n",
      "        ?item rdfs:label ?label.\n",
      "        FILTER(LANG(?label) = \"en\")\n",
      "        FILTER(?item != wd:Q13365740)\n",
      "        \n",
      "        SERVICE wikibase:label { bd:serviceParam wikibase:language \"[AUTO_LANGUAGE],en\". }\n",
      "    }\n",
      "    LIMIT 100\n",
      "    \n",
      "                                         item  \\\n",
      "0   http://www.wikidata.org/entity/Q123284526   \n",
      "1   http://www.wikidata.org/entity/Q120176626   \n",
      "2      http://www.wikidata.org/entity/Q688769   \n",
      "3   http://www.wikidata.org/entity/Q114858638   \n",
      "4      http://www.wikidata.org/entity/Q162401   \n",
      "5      http://www.wikidata.org/entity/Q159794   \n",
      "6      http://www.wikidata.org/entity/Q157445   \n",
      "7       http://www.wikidata.org/entity/Q99172   \n",
      "8       http://www.wikidata.org/entity/Q38906   \n",
      "9    http://www.wikidata.org/entity/Q45210361   \n",
      "10   http://www.wikidata.org/entity/Q45217748   \n",
      "11   http://www.wikidata.org/entity/Q45226378   \n",
      "12   http://www.wikidata.org/entity/Q45226651   \n",
      "13   http://www.wikidata.org/entity/Q45227777   \n",
      "14   http://www.wikidata.org/entity/Q45228559   \n",
      "15   http://www.wikidata.org/entity/Q45229562   \n",
      "16   http://www.wikidata.org/entity/Q45232942   \n",
      "17   http://www.wikidata.org/entity/Q45262875   \n",
      "18   http://www.wikidata.org/entity/Q45284368   \n",
      "19   http://www.wikidata.org/entity/Q45287398   \n",
      "20   http://www.wikidata.org/entity/Q45288946   \n",
      "21   http://www.wikidata.org/entity/Q45320509   \n",
      "22   http://www.wikidata.org/entity/Q45321022   \n",
      "23   http://www.wikidata.org/entity/Q45321119   \n",
      "24   http://www.wikidata.org/entity/Q45321515   \n",
      "25   http://www.wikidata.org/entity/Q45322130   \n",
      "26   http://www.wikidata.org/entity/Q45343228   \n",
      "27   http://www.wikidata.org/entity/Q45344164   \n",
      "28   http://www.wikidata.org/entity/Q45345196   \n",
      "29   http://www.wikidata.org/entity/Q45346428   \n",
      "30   http://www.wikidata.org/entity/Q45346675   \n",
      "31   http://www.wikidata.org/entity/Q45347183   \n",
      "32   http://www.wikidata.org/entity/Q45348045   \n",
      "33   http://www.wikidata.org/entity/Q45348243   \n",
      "34   http://www.wikidata.org/entity/Q45348622   \n",
      "35   http://www.wikidata.org/entity/Q45348895   \n",
      "36   http://www.wikidata.org/entity/Q45349079   \n",
      "37   http://www.wikidata.org/entity/Q45349170   \n",
      "38   http://www.wikidata.org/entity/Q45351452   \n",
      "39   http://www.wikidata.org/entity/Q45353053   \n",
      "40   http://www.wikidata.org/entity/Q45353329   \n",
      "41   http://www.wikidata.org/entity/Q45366104   \n",
      "42     http://www.wikidata.org/entity/Q256866   \n",
      "43     http://www.wikidata.org/entity/Q321489   \n",
      "44     http://www.wikidata.org/entity/Q374696   \n",
      "45   http://www.wikidata.org/entity/Q17516225   \n",
      "46   http://www.wikidata.org/entity/Q12046936   \n",
      "47   http://www.wikidata.org/entity/Q15124190   \n",
      "48   http://www.wikidata.org/entity/Q15219565   \n",
      "49   http://www.wikidata.org/entity/Q12046937   \n",
      "50   http://www.wikidata.org/entity/Q12046932   \n",
      "51   http://www.wikidata.org/entity/Q12046948   \n",
      "52   http://www.wikidata.org/entity/Q14541758   \n",
      "53   http://www.wikidata.org/entity/Q12046940   \n",
      "54   http://www.wikidata.org/entity/Q13217521   \n",
      "55   http://www.wikidata.org/entity/Q13434759   \n",
      "56   http://www.wikidata.org/entity/Q12291295   \n",
      "57   http://www.wikidata.org/entity/Q17514740   \n",
      "58   http://www.wikidata.org/entity/Q19429378   \n",
      "59   http://www.wikidata.org/entity/Q15870812   \n",
      "60   http://www.wikidata.org/entity/Q16933471   \n",
      "61   http://www.wikidata.org/entity/Q12046939   \n",
      "62   http://www.wikidata.org/entity/Q12046933   \n",
      "63   http://www.wikidata.org/entity/Q12046935   \n",
      "64   http://www.wikidata.org/entity/Q12046951   \n",
      "65   http://www.wikidata.org/entity/Q13217489   \n",
      "66     http://www.wikidata.org/entity/Q539573   \n",
      "67     http://www.wikidata.org/entity/Q420065   \n",
      "68     http://www.wikidata.org/entity/Q402282   \n",
      "69   http://www.wikidata.org/entity/Q43438239   \n",
      "70   http://www.wikidata.org/entity/Q43451861   \n",
      "71   http://www.wikidata.org/entity/Q43438389   \n",
      "72   http://www.wikidata.org/entity/Q43439668   \n",
      "73   http://www.wikidata.org/entity/Q43443259   \n",
      "74   http://www.wikidata.org/entity/Q43446586   \n",
      "75   http://www.wikidata.org/entity/Q43453989   \n",
      "76   http://www.wikidata.org/entity/Q43454464   \n",
      "77   http://www.wikidata.org/entity/Q43455083   \n",
      "78   http://www.wikidata.org/entity/Q43455373   \n",
      "79   http://www.wikidata.org/entity/Q43456012   \n",
      "80   http://www.wikidata.org/entity/Q43456555   \n",
      "81   http://www.wikidata.org/entity/Q43460338   \n",
      "82   http://www.wikidata.org/entity/Q43464481   \n",
      "83   http://www.wikidata.org/entity/Q43465672   \n",
      "84   http://www.wikidata.org/entity/Q43466218   \n",
      "85   http://www.wikidata.org/entity/Q43467726   \n",
      "86   http://www.wikidata.org/entity/Q43468423   \n",
      "87   http://www.wikidata.org/entity/Q43469010   \n",
      "88   http://www.wikidata.org/entity/Q43469278   \n",
      "89   http://www.wikidata.org/entity/Q43471159   \n",
      "90   http://www.wikidata.org/entity/Q43473957   \n",
      "91   http://www.wikidata.org/entity/Q43477389   \n",
      "92   http://www.wikidata.org/entity/Q43478021   \n",
      "93   http://www.wikidata.org/entity/Q43479060   \n",
      "94   http://www.wikidata.org/entity/Q43483900   \n",
      "95   http://www.wikidata.org/entity/Q43484511   \n",
      "96   http://www.wikidata.org/entity/Q43486845   \n",
      "97   http://www.wikidata.org/entity/Q43487541   \n",
      "98   http://www.wikidata.org/entity/Q43490149   \n",
      "99   http://www.wikidata.org/entity/Q43492606   \n",
      "\n",
      "                                      label  \n",
      "0                              Prag-Strasse  \n",
      "1                              ENI 04813800  \n",
      "2    First Defenestration of Prague  (1419)  \n",
      "3                             rue de Prague  \n",
      "4                             Prague Spring  \n",
      "5                     Prague pneumatic post  \n",
      "6                          Prague Offensive  \n",
      "7               Václav Havel Airport Prague  \n",
      "8                          Pražský Krysařík  \n",
      "9                                   Pražská  \n",
      "10                                  Pražská  \n",
      "11                                  Pražská  \n",
      "12                                  Pražská  \n",
      "13                                  Pražská  \n",
      "14                                  Pražská  \n",
      "15                                  Pražská  \n",
      "16                                  Pražská  \n",
      "17                                  Pražská  \n",
      "18                                  Pražská  \n",
      "19                                  Pražská  \n",
      "20                                  Pražská  \n",
      "21                                  Pražská  \n",
      "22                                  Pražská  \n",
      "23                                  Pražská  \n",
      "24                                  Pražská  \n",
      "25                                  Pražská  \n",
      "26                                  Pražská  \n",
      "27                                  Pražská  \n",
      "28                                  Pražská  \n",
      "29                                  Pražská  \n",
      "30                                  Pražská  \n",
      "31                                  Pražská  \n",
      "32                                  Pražská  \n",
      "33                                  Pražská  \n",
      "34                                  Pražská  \n",
      "35                                  Pražská  \n",
      "36                                  Pražská  \n",
      "37                                  Pražská  \n",
      "38                                  Pražská  \n",
      "39                                  Pražská  \n",
      "40                                  Pražská  \n",
      "41                                  Pražská  \n",
      "42                          Peace of Prague  \n",
      "43                            Prager Straße  \n",
      "44                Defenestrations of Prague  \n",
      "45  Bibliobuses of Městská knihovna v Praze  \n",
      "46                           Pražské služby  \n",
      "47                          Prague Nocturne  \n",
      "48                            Prāgas Street  \n",
      "49                             Prague House  \n",
      "50                   Pražské dětské divadlo  \n",
      "51                     Pražský smíšený sbor  \n",
      "52                        Pražská strojírna  \n",
      "53                    Pražský komorní balet  \n",
      "54               Prague Short-Faced Tumbler  \n",
      "55               Praque Tumbler middle face  \n",
      "56                               bul. Praga  \n",
      "57                       Prague Film School  \n",
      "58                           Praagplantsoen  \n",
      "59                       Pražská energetika  \n",
      "60                    Prague Student Summit  \n",
      "61                     Czech Singers Chorus  \n",
      "62                           Prague Mothers  \n",
      "63                 Pražské poštovské noviny  \n",
      "64                             Pražský zlom  \n",
      "65              Prague Glagolitic Fragments  \n",
      "66                          Prague groschen  \n",
      "67                           Prague Quartet  \n",
      "68                            Prague school  \n",
      "69                             Nová Pražská  \n",
      "70                          Pražská silnice  \n",
      "71                                  Pražská  \n",
      "72                                  Pražská  \n",
      "73                                  Pražská  \n",
      "74                                  Pražská  \n",
      "75                                  Pražská  \n",
      "76                                  Pražská  \n",
      "77                                  Pražská  \n",
      "78                                  Pražská  \n",
      "79                                  Pražská  \n",
      "80                                  Pražská  \n",
      "81                                  Pražská  \n",
      "82                                  Pražská  \n",
      "83                                  Pražská  \n",
      "84                                  Pražská  \n",
      "85                                  Pražská  \n",
      "86                                  Pražská  \n",
      "87                                  Pražská  \n",
      "88                                  Pražská  \n",
      "89                                  Pražská  \n",
      "90                                  Pražská  \n",
      "91                                  Pražská  \n",
      "92                                  Pražská  \n",
      "93                                  Pražská  \n",
      "94                                  Pražská  \n",
      "95                                  Pražská  \n",
      "96                                  Pražská  \n",
      "97                                  Pražská  \n",
      "98                                  Pražská  \n",
      "99                                  Pražská  \n"
     ]
    },
    {
     "name": "stderr",
     "output_type": "stream",
     "text": [
      "/var/folders/g_/12fwrqfs2lgcf9rnql4m440dx849vl/T/ipykernel_78786/1494606961.py:3: FutureWarning: DataFrame.applymap has been deprecated. Use DataFrame.map instead.\n",
      "  df = df.applymap(lambda x: x[\"value\"])\n"
     ]
    }
   ],
   "source": [
    "display_as_table(sister_topic(find_Q_by_label(\"Second Defenestration of Prague (1618)\")), 100)"
   ]
  },
  {
   "cell_type": "code",
   "execution_count": 87,
   "metadata": {},
   "outputs": [],
   "source": [
    "def sparql_question(topicQ, predicateQ):\n",
    "    # Define the SPARQL query\n",
    "    sparql_query = \"\"\"\n",
    "    SELECT ?thing WHERE {\n",
    "      \n",
    "    ?thing\"\"\" + \" wdt:\" + predicateQ + \" wd:\" + topicQ + \"\"\".\n",
    "\n",
    "    SERVICE wikibase:label { bd:serviceParam wikibase:language \"[AUTO_LANGUAGE],en\". }\n",
    "    }\n",
    "    LIMIT 10\n",
    "    \"\"\"\n",
    "    print(\"running query: \" + sparql_query)\n",
    "\n",
    "    return run_sparql(sparql_query)"
   ]
  },
  {
   "cell_type": "code",
   "execution_count": 21,
   "metadata": {},
   "outputs": [
    {
     "data": {
      "text/plain": [
       "'Q3624078'"
      ]
     },
     "execution_count": 21,
     "metadata": {},
     "output_type": "execute_result"
    }
   ],
   "source": [
    "find_Q_by_label(topic)"
   ]
  },
  {
   "cell_type": "code",
   "execution_count": 32,
   "metadata": {},
   "outputs": [
    {
     "name": "stdout",
     "output_type": "stream",
     "text": [
      "running query: \n",
      "    SELECT ?thing WHERE {\n",
      "      \n",
      "    ?thing wdt:P31 wd:Q3624078.\n",
      "\n",
      "    SERVICE wikibase:label { bd:serviceParam wikibase:language \"[AUTO_LANGUAGE],en\". }\n",
      "    }\n",
      "    LIMIT 10\n",
      "    \n"
     ]
    },
    {
     "data": {
      "text/plain": [
       "{'head': {'vars': ['thing']},\n",
       " 'results': {'bindings': [{'thing': {'type': 'uri',\n",
       "     'value': 'http://www.wikidata.org/entity/Q16'}},\n",
       "   {'thing': {'type': 'uri', 'value': 'http://www.wikidata.org/entity/Q17'}},\n",
       "   {'thing': {'type': 'uri', 'value': 'http://www.wikidata.org/entity/Q20'}},\n",
       "   {'thing': {'type': 'uri', 'value': 'http://www.wikidata.org/entity/Q27'}},\n",
       "   {'thing': {'type': 'uri', 'value': 'http://www.wikidata.org/entity/Q28'}},\n",
       "   {'thing': {'type': 'uri', 'value': 'http://www.wikidata.org/entity/Q29'}},\n",
       "   {'thing': {'type': 'uri', 'value': 'http://www.wikidata.org/entity/Q30'}},\n",
       "   {'thing': {'type': 'uri', 'value': 'http://www.wikidata.org/entity/Q31'}},\n",
       "   {'thing': {'type': 'uri', 'value': 'http://www.wikidata.org/entity/Q32'}},\n",
       "   {'thing': {'type': 'uri', 'value': 'http://www.wikidata.org/entity/Q33'}}]}}"
      ]
     },
     "execution_count": 32,
     "metadata": {},
     "output_type": "execute_result"
    }
   ],
   "source": [
    "sparql_question(find_Q_by_label(topic), find_Q_by_label(\"instance of\"))"
   ]
  },
  {
   "cell_type": "code",
   "execution_count": null,
   "metadata": {},
   "outputs": [
    {
     "name": "stdout",
     "output_type": "stream",
     "text": [
      "Label: Berlin\n",
      "Description: federated state, capital and largest city of Germany\n",
      "Aliases: Berlin, Germany, Berlin (Germany), DE-BE\n"
     ]
    }
   ],
   "source": [
    "\n",
    "def get_wikidata_item(item_id):\n",
    "    # Wikidata API endpoint\n",
    "    url = \"https://www.wikidata.org/w/api.php\"\n",
    "    \n",
    "    # Parameters for the API request\n",
    "    params = {\n",
    "        \"action\": \"wbgetentities\",  # Action to get data about entities\n",
    "        \"ids\": item_id,  # ID of the Wikidata item (e.g., Q64 for Berlin)\n",
    "        \"format\": \"json\",  # Response format\n",
    "        \"props\": \"labels|descriptions|aliases\",  # Properties to retrieve: labels, descriptions, and aliases\n",
    "        \"languages\": \"en\"  # Language filter\n",
    "    }\n",
    "    \n",
    "    # Make the GET request to the Wikidata API\n",
    "    response = requests.get(url, params=params)\n",
    "    \n",
    "    # Check if the request was successful\n",
    "    if response.status_code == 200:\n",
    "        # Parse the JSON response\n",
    "        data = response.json()\n",
    "        \n",
    "        # Access the item's data\n",
    "        item_data = data['entities'][item_id]\n",
    "        \n",
    "        # Extract and print the label, description, and aliases\n",
    "        label = item_data['labels']['en']['value']\n",
    "        description = item_data['descriptions']['en']['value']\n",
    "        aliases = [alias['value'] for alias in item_data['aliases']['en']]\n",
    "        \n",
    "        print(f\"Label: {label}\")\n",
    "        print(f\"Description: {description}\")\n",
    "        print(f\"Aliases: {', '.join(aliases)}\")\n",
    "    else:\n",
    "        print(\"Failed to retrieve data\")\n",
    "\n",
    "# Example usage\n",
    "get_wikidata_item(\"Q64\")"
   ]
  }
 ],
 "metadata": {
  "kernelspec": {
   "display_name": "krr",
   "language": "python",
   "name": "python3"
  },
  "language_info": {
   "codemirror_mode": {
    "name": "ipython",
    "version": 3
   },
   "file_extension": ".py",
   "mimetype": "text/x-python",
   "name": "python",
   "nbconvert_exporter": "python",
   "pygments_lexer": "ipython3",
   "version": "3.12.1"
  }
 },
 "nbformat": 4,
 "nbformat_minor": 2
}
