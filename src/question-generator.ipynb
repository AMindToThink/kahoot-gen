{
 "cells": [
  {
   "cell_type": "code",
   "execution_count": 1,
   "metadata": {},
   "outputs": [
    {
     "name": "stderr",
     "output_type": "stream",
     "text": [
      "/var/folders/g_/12fwrqfs2lgcf9rnql4m440dx849vl/T/ipykernel_78786/712753261.py:3: DeprecationWarning: \n",
      "Pyarrow will become a required dependency of pandas in the next major release of pandas (pandas 3.0),\n",
      "(to allow more performant data types, such as the Arrow string type, and better interoperability with other libraries)\n",
      "but was not found to be installed on your system.\n",
      "If this would cause problems for you,\n",
      "please provide us feedback at https://github.com/pandas-dev/pandas/issues/54466\n",
      "        \n",
      "  import pandas\n"
     ]
    }
   ],
   "source": [
    "import requests\n",
    "from SPARQLWrapper import SPARQLWrapper, JSON\n",
    "import pandas"
   ]
  },
  {
   "cell_type": "code",
   "execution_count": 2,
   "metadata": {},
   "outputs": [
    {
     "name": "stdout",
     "output_type": "stream",
     "text": [
      "On what topic do you want questions?\n",
      "How many questions do you want?\n"
     ]
    },
    {
     "ename": "ValueError",
     "evalue": "invalid literal for int() with base 10: ''",
     "output_type": "error",
     "traceback": [
      "\u001b[0;31m---------------------------------------------------------------------------\u001b[0m",
      "\u001b[0;31mValueError\u001b[0m                                Traceback (most recent call last)",
      "Cell \u001b[0;32mIn[2], line 4\u001b[0m\n\u001b[1;32m      2\u001b[0m topic \u001b[38;5;241m=\u001b[39m \u001b[38;5;28minput\u001b[39m()\n\u001b[1;32m      3\u001b[0m \u001b[38;5;28mprint\u001b[39m(\u001b[38;5;124m\"\u001b[39m\u001b[38;5;124mHow many questions do you want?\u001b[39m\u001b[38;5;124m\"\u001b[39m)\n\u001b[0;32m----> 4\u001b[0m num_questions \u001b[38;5;241m=\u001b[39m \u001b[38;5;28;43mint\u001b[39;49m\u001b[43m(\u001b[49m\u001b[38;5;28;43minput\u001b[39;49m\u001b[43m(\u001b[49m\u001b[43m)\u001b[49m\u001b[43m)\u001b[49m\n",
      "\u001b[0;31mValueError\u001b[0m: invalid literal for int() with base 10: ''"
     ]
    }
   ],
   "source": [
    "print(\"On what topic do you want questions?\")\n",
    "topic = input()\n",
    "print(\"How many questions do you want?\")\n",
    "num_questions = int(input())"
   ]
  },
  {
   "cell_type": "code",
   "execution_count": 11,
   "metadata": {},
   "outputs": [],
   "source": [
    "sparql = SPARQLWrapper(\"https://query.wikidata.org/sparql\")"
   ]
  },
  {
   "cell_type": "code",
   "execution_count": 3,
   "metadata": {},
   "outputs": [],
   "source": [
    "wikidata_property_example = \"P1855\""
   ]
  },
  {
   "cell_type": "code",
   "execution_count": 48,
   "metadata": {},
   "outputs": [],
   "source": [
    "def display_as_table(results, items):\n",
    "    df = pandas.DataFrame.from_dict(results[\"results\"][\"bindings\"])\n",
    "    df = df.applymap(lambda x: x[\"value\"])\n",
    "    pandas.set_option('display.max_rows', items)\n",
    "    print(df)"
   ]
  },
  {
   "cell_type": "code",
   "execution_count": 5,
   "metadata": {},
   "outputs": [],
   "source": [
    "def find_uri_by_label(label):\n",
    "    sparql = SPARQLWrapper(\"https://query.wikidata.org/sparql\")\n",
    "    \n",
    "    # SPARQL query to find the URI for a given label\n",
    "    query = \"\"\"\n",
    "    SELECT ?item WHERE {\n",
    "      ?item rdfs:label \"%s\"@en.\n",
    "      SERVICE wikibase:label { bd:serviceParam wikibase:language \"[AUTO_LANGUAGE],en\". }\n",
    "    }\n",
    "    LIMIT 1\n",
    "    \"\"\" % label.replace('\"', '\\\"')  # Basic string sanitization\n",
    "    \n",
    "    sparql.setQuery(query)\n",
    "    sparql.setReturnFormat(JSON)\n",
    "    \n",
    "    try:\n",
    "        results = sparql.query().convert()\n",
    "        for result in results[\"results\"][\"bindings\"]:\n",
    "            return result[\"item\"][\"value\"]  # Return the first matching URI\n",
    "    except Exception as e:\n",
    "        print(f\"An error occurred: {e}\")\n",
    "        return None"
   ]
  },
  {
   "cell_type": "code",
   "execution_count": 6,
   "metadata": {},
   "outputs": [],
   "source": [
    "def run_sparql(sparql_query):\n",
    "    print(sparql_query)\n",
    "    # Set the query and the return format (JSON)\n",
    "    sparql.setQuery(sparql_query)\n",
    "    sparql.setReturnFormat(JSON)\n",
    "\n",
    "    # Perform the query and convert the result to a Python dictionary\n",
    "    results = sparql.query().convert()\n",
    "    return results"
   ]
  },
  {
   "cell_type": "code",
   "execution_count": 7,
   "metadata": {},
   "outputs": [],
   "source": [
    "def find_Q_by_uri(uri):\n",
    "    return uri.split(\"/\")[-1]"
   ]
  },
  {
   "cell_type": "code",
   "execution_count": 8,
   "metadata": {},
   "outputs": [],
   "source": [
    "def find_Q_by_label(label):\n",
    "    return find_Q_by_uri(find_uri_by_label(label))"
   ]
  },
  {
   "cell_type": "code",
   "execution_count": 146,
   "metadata": {},
   "outputs": [
    {
     "name": "stderr",
     "output_type": "stream",
     "text": [
      "<>:9: SyntaxWarning: invalid escape sequence '\\{'\n",
      "<>:9: SyntaxWarning: invalid escape sequence '\\{'\n",
      "/var/folders/g_/12fwrqfs2lgcf9rnql4m440dx849vl/T/ipykernel_78786/3293884983.py:9: SyntaxWarning: invalid escape sequence '\\{'\n",
      "  exeptions = [\"FILTER NOT EXISTS \\{?item \" + exception + \" }\\n\" for exception in exceptions]\n"
     ]
    }
   ],
   "source": [
    "# I checked all of the ?predicates offered by ChatGPT and they are sensible\n",
    "# wdt:P31 \"instance of\" and wdt:P21 \"sex or gender\" removed\n",
    "sensible_sister_predicates = \"wdt:P279 wdt:P361 wdt:P101 wdt:P361 wdt:P921 wdt:P131 wdt:P150\"\n",
    "named_after = \" wdt:P138\"\n",
    "occupation = \" wdt:P106\"\n",
    "sensible_sister_predicates += named_after + occupation\n",
    "\n",
    "def sister_topic(topicQ, predicates=sensible_sister_predicates, exceptions=[]):\n",
    "    # exceptions not yet tested\n",
    "    exeptions = [\"FILTER NOT EXISTS \\{?item \" + exception + \" }\\n\" for exception in exceptions]\n",
    "    #SPARQL query to find topics that are similar to the given topic\n",
    "    query = \"\"\"\n",
    "    SELECT ?item ?label WHERE {\n",
    "        VALUES ?predicates { \"\"\" + predicates + \"\"\" }\n",
    "        wd:\"\"\" + topicQ +  \"\"\" ?predicates ?class.\n",
    "        ?item ?predicates ?class.\n",
    "        ?item rdfs:label ?label.\n",
    "        \n",
    "        FILTER(LANG(?label) = \"en\")\n",
    "        FILTER(?item != wd:\"\"\" + topicQ +  \"\"\")\n",
    "        \"\"\" + \"\".join(exeptions) + \"\"\"\n",
    "        SERVICE wikibase:label { bd:serviceParam wikibase:language \"[AUTO_LANGUAGE],en\". }\n",
    "    }\n",
    "    \n",
    "    LIMIT 100\n",
    "    \"\"\"\n",
    "    # ORDER BY RAND() didn't work\n",
    "    \n",
    "    # query = \"\"\"SELECT ?item (GROUP_CONCAT(DISTINCT ?predicate; separator=\", \") AS ?predicates)\n",
    "    #             (GROUP_CONCAT(DISTINCT ?label; separator=\", \") AS ?labels) \n",
    "    #             WHERE {\n",
    "    #                 VALUES ?predicate { \"\"\" + predicates + \"\"\" }\n",
    "    #                 wd:\"\"\" + topicQ + \"\"\" ?predicate ?class.\n",
    "    #                 ?item ?predicate ?class.\n",
    "    #                 ?item rdfs:label ?label.\n",
    "    #                 FILTER(?item != wd:\"\"\" + topicQ + \"\"\")\n",
    "                    \n",
    "    #                 SERVICE wikibase:label { bd:serviceParam wikibase:language \"[AUTO_LANGUAGE],en\". }\n",
    "    #             }\n",
    "    #             GROUP BY ?item\n",
    "    #             LIMIT 100\"\"\"\n",
    "\n",
    "    return run_sparql(query)"
   ]
  },
  {
   "cell_type": "code",
   "execution_count": 147,
   "metadata": {},
   "outputs": [
    {
     "name": "stdout",
     "output_type": "stream",
     "text": [
      "\n",
      "    SELECT ?item ?label WHERE {\n",
      "        VALUES ?predicates { wdt:P279 wdt:P361 wdt:P101 wdt:P361 wdt:P921 wdt:P131 wdt:P150 wdt:P138 wdt:P106 }\n",
      "        wd:Q108761978 ?predicates ?class.\n",
      "        ?item ?predicates ?class.\n",
      "        ?item rdfs:label ?label.\n",
      "        \n",
      "        FILTER(LANG(?label) = \"en\")\n",
      "        FILTER(?item != wd:Q108761978)\n",
      "        \n",
      "        SERVICE wikibase:label { bd:serviceParam wikibase:language \"[AUTO_LANGUAGE],en\". }\n",
      "    }\n",
      "    \n",
      "    LIMIT 100\n",
      "    \n",
      "                                     item                  label\n",
      "0   http://www.wikidata.org/entity/Q12003                   Cher\n",
      "1     http://www.wikidata.org/entity/Q303          Elvis Presley\n",
      "2   http://www.wikidata.org/entity/Q12006             Dave Grohl\n",
      "3   http://www.wikidata.org/entity/Q12007             Eric Saade\n",
      "4   http://www.wikidata.org/entity/Q26780           Daiki Arioka\n",
      "5   http://www.wikidata.org/entity/Q26834                  Poopy\n",
      "6   http://www.wikidata.org/entity/Q26869           Major Harris\n",
      "7     http://www.wikidata.org/entity/Q557            Patti Smith\n",
      "8     http://www.wikidata.org/entity/Q563      Brigitte Fontaine\n",
      "9     http://www.wikidata.org/entity/Q392              Bob Dylan\n",
      "10    http://www.wikidata.org/entity/Q512      Vladimir Vysotsky\n",
      "11  http://www.wikidata.org/entity/Q49004         Patrick Swayze\n",
      "12  http://www.wikidata.org/entity/Q49017            Hugh Laurie\n",
      "13  http://www.wikidata.org/entity/Q43379           Alan Averill\n",
      "14  http://www.wikidata.org/entity/Q43416           Keanu Reeves\n",
      "15  http://www.wikidata.org/entity/Q43432      Justin Timberlake\n",
      "16  http://www.wikidata.org/entity/Q14439     Phoebe Cates-Kline\n",
      "17  http://www.wikidata.org/entity/Q26876           Taylor Swift\n",
      "18  http://www.wikidata.org/entity/Q14517            Mac DeMarco\n",
      "19  http://www.wikidata.org/entity/Q14538       Sharon Van Etten\n",
      "20  http://www.wikidata.org/entity/Q27326      Caroline Sunshine\n",
      "21  http://www.wikidata.org/entity/Q27339           Denis Midone\n",
      "22  http://www.wikidata.org/entity/Q27408          Ömər Sultanov\n",
      "23  http://www.wikidata.org/entity/Q27486          Katja Ebstein\n",
      "24  http://www.wikidata.org/entity/Q28558       Patricia Navidad\n",
      "25  http://www.wikidata.org/entity/Q28755      Matthew Broderick\n",
      "26  http://www.wikidata.org/entity/Q43189                 Juanes\n",
      "27  http://www.wikidata.org/entity/Q43203         Clint Eastwood\n",
      "28  http://www.wikidata.org/entity/Q43774       Gustl Bayrhammer\n",
      "29  http://www.wikidata.org/entity/Q12827             Beth Ditto\n",
      "30  http://www.wikidata.org/entity/Q48884   Gholam-Hossein Banan\n",
      "31  http://www.wikidata.org/entity/Q48959               Labrinth\n",
      "32  http://www.wikidata.org/entity/Q49001        Whoopi Goldberg\n",
      "33    http://www.wikidata.org/entity/Q633             Neil Young\n",
      "34    http://www.wikidata.org/entity/Q636              Kate Bush\n",
      "35  http://www.wikidata.org/entity/Q49573           Aya Hisakawa\n",
      "36  http://www.wikidata.org/entity/Q49575        Dizzy Gillespie\n",
      "37  http://www.wikidata.org/entity/Q49319             Aloe Blacc\n",
      "38  http://www.wikidata.org/entity/Q49474             Kana Asumi\n",
      "39  http://www.wikidata.org/entity/Q12010          Eldar Qasımov\n",
      "40  http://www.wikidata.org/entity/Q27743         Lonnie Donegan\n",
      "41  http://www.wikidata.org/entity/Q28348          Nicky Hopkins\n",
      "42  http://www.wikidata.org/entity/Q29328            Brie Larson\n",
      "43  http://www.wikidata.org/entity/Q29835     Alodia Gosiengfiao\n",
      "44    http://www.wikidata.org/entity/Q714          Stevie Wonder\n",
      "45  http://www.wikidata.org/entity/Q49563          Noriko Hidaka\n",
      "46  http://www.wikidata.org/entity/Q14042             Willy Moon\n",
      "47  http://www.wikidata.org/entity/Q14045                   Moby\n",
      "48    http://www.wikidata.org/entity/Q409             Bob Marley\n",
      "49  http://www.wikidata.org/entity/Q26933         Pete Townshend\n",
      "50  http://www.wikidata.org/entity/Q30510  María Dolores Pradera\n",
      "51  http://www.wikidata.org/entity/Q30570          David Draiman\n",
      "52  http://www.wikidata.org/entity/Q15615              Lil Wayne\n",
      "53  http://www.wikidata.org/entity/Q15869        Freddie Mercury\n",
      "54  http://www.wikidata.org/entity/Q28921        Hanna Schygulla\n",
      "55  http://www.wikidata.org/entity/Q43947         Fernanda Abreu\n",
      "56  http://www.wikidata.org/entity/Q43949           Hans Söllner\n",
      "57  http://www.wikidata.org/entity/Q43950           Jacob Artist\n",
      "58  http://www.wikidata.org/entity/Q49564             Rei Sakuma\n",
      "59  http://www.wikidata.org/entity/Q49566         Ayako Kawasumi\n",
      "60  http://www.wikidata.org/entity/Q49569            Mamiko Noto\n",
      "61  http://www.wikidata.org/entity/Q14541          Terry Callier\n",
      "62  http://www.wikidata.org/entity/Q14711             Mats Levén\n",
      "63  http://www.wikidata.org/entity/Q14726           Ville Kantee\n",
      "64  http://www.wikidata.org/entity/Q49075        Louis Farrakhan\n",
      "65  http://www.wikidata.org/entity/Q49734            Cass Elliot\n",
      "66  http://www.wikidata.org/entity/Q43252           Sophia Loren\n",
      "67  http://www.wikidata.org/entity/Q49524          Kana Hanazawa\n",
      "68  http://www.wikidata.org/entity/Q49547         Fumiko Orikasa\n",
      "69  http://www.wikidata.org/entity/Q49554           Rie Kugimiya\n",
      "70  http://www.wikidata.org/entity/Q49735            Johnny Nash\n",
      "71  http://www.wikidata.org/entity/Q14078            Hank Mizell\n",
      "72  http://www.wikidata.org/entity/Q14313      Pharrell Williams\n",
      "73  http://www.wikidata.org/entity/Q12012            Nigar Jamal\n",
      "74  http://www.wikidata.org/entity/Q12349                   Inna\n",
      "75  http://www.wikidata.org/entity/Q30896  Lalaine Vergara-Paras\n",
      "76  http://www.wikidata.org/entity/Q31013          Patti LaBelle\n",
      "77  http://www.wikidata.org/entity/Q15873              Brian May\n",
      "78   http://www.wikidata.org/entity/Q1276          Leonard Cohen\n",
      "79  http://www.wikidata.org/entity/Q50026           Miyu Matsuki\n",
      "80  http://www.wikidata.org/entity/Q50029        Minako Kotobuki\n",
      "81  http://www.wikidata.org/entity/Q43882      Maximilian Arland\n",
      "82  http://www.wikidata.org/entity/Q43901             Jakob Geis\n",
      "83  http://www.wikidata.org/entity/Q49993         Ayahi Takagaki\n",
      "84  http://www.wikidata.org/entity/Q50003          Alberto Sordi\n",
      "85  http://www.wikidata.org/entity/Q43826             Weiß Ferdl\n",
      "86  http://www.wikidata.org/entity/Q43831            Max Grießer\n",
      "87  http://www.wikidata.org/entity/Q43834    Clementina de Jesus\n",
      "88  http://www.wikidata.org/entity/Q43864        Joesi Prokopetz\n",
      "89   http://www.wikidata.org/entity/Q1453         Alexandra Stan\n",
      "90  http://www.wikidata.org/entity/Q31462             Kenji Endō\n",
      "91  http://www.wikidata.org/entity/Q44414            Trey Parker\n",
      "92  http://www.wikidata.org/entity/Q44529         Leonardo Favio\n",
      "93  http://www.wikidata.org/entity/Q15880           Roger Taylor\n",
      "94   http://www.wikidata.org/entity/Q1023        Roman Camenzind\n",
      "95   http://www.wikidata.org/entity/Q1203            John Lennon\n",
      "96   http://www.wikidata.org/entity/Q1225      Bruce Springsteen\n",
      "97  http://www.wikidata.org/entity/Q31481          Pierre Barouh\n",
      "98  http://www.wikidata.org/entity/Q29875           Amund Maarud\n",
      "99  http://www.wikidata.org/entity/Q30449          Avril Lavigne\n"
     ]
    },
    {
     "name": "stderr",
     "output_type": "stream",
     "text": [
      "/var/folders/g_/12fwrqfs2lgcf9rnql4m440dx849vl/T/ipykernel_78786/1494606961.py:3: FutureWarning: DataFrame.applymap has been deprecated. Use DataFrame.map instead.\n",
      "  df = df.applymap(lambda x: x[\"value\"])\n"
     ]
    }
   ],
   "source": [
    "display_as_table(sister_topic(find_Q_by_label(\"Yeat\")), 100)"
   ]
  },
  {
   "cell_type": "code",
   "execution_count": 137,
   "metadata": {},
   "outputs": [],
   "source": [
    "def sparql_question(topicQ, predicateQ):\n",
    "    # Define the SPARQL query\n",
    "    sparql_query = \"\"\"\n",
    "    SELECT ?thing WHERE {\n",
    "      \n",
    "    ?thing\"\"\" + \" wdt:\" + predicateQ + \" wd:\" + topicQ + \"\"\".\n",
    "\n",
    "    SERVICE wikibase:label { bd:serviceParam wikibase:language \"[AUTO_LANGUAGE],en\". }\n",
    "    }\n",
    "    LIMIT 10\n",
    "    \"\"\"\n",
    "    print(\"running query: \" + sparql_query)\n",
    "\n",
    "    return run_sparql(sparql_query)"
   ]
  },
  {
   "cell_type": "code",
   "execution_count": 21,
   "metadata": {},
   "outputs": [
    {
     "data": {
      "text/plain": [
       "'Q3624078'"
      ]
     },
     "execution_count": 21,
     "metadata": {},
     "output_type": "execute_result"
    }
   ],
   "source": [
    "find_Q_by_label(topic)"
   ]
  },
  {
   "cell_type": "code",
   "execution_count": 32,
   "metadata": {},
   "outputs": [
    {
     "name": "stdout",
     "output_type": "stream",
     "text": [
      "running query: \n",
      "    SELECT ?thing WHERE {\n",
      "      \n",
      "    ?thing wdt:P31 wd:Q3624078.\n",
      "\n",
      "    SERVICE wikibase:label { bd:serviceParam wikibase:language \"[AUTO_LANGUAGE],en\". }\n",
      "    }\n",
      "    LIMIT 10\n",
      "    \n"
     ]
    },
    {
     "data": {
      "text/plain": [
       "{'head': {'vars': ['thing']},\n",
       " 'results': {'bindings': [{'thing': {'type': 'uri',\n",
       "     'value': 'http://www.wikidata.org/entity/Q16'}},\n",
       "   {'thing': {'type': 'uri', 'value': 'http://www.wikidata.org/entity/Q17'}},\n",
       "   {'thing': {'type': 'uri', 'value': 'http://www.wikidata.org/entity/Q20'}},\n",
       "   {'thing': {'type': 'uri', 'value': 'http://www.wikidata.org/entity/Q27'}},\n",
       "   {'thing': {'type': 'uri', 'value': 'http://www.wikidata.org/entity/Q28'}},\n",
       "   {'thing': {'type': 'uri', 'value': 'http://www.wikidata.org/entity/Q29'}},\n",
       "   {'thing': {'type': 'uri', 'value': 'http://www.wikidata.org/entity/Q30'}},\n",
       "   {'thing': {'type': 'uri', 'value': 'http://www.wikidata.org/entity/Q31'}},\n",
       "   {'thing': {'type': 'uri', 'value': 'http://www.wikidata.org/entity/Q32'}},\n",
       "   {'thing': {'type': 'uri', 'value': 'http://www.wikidata.org/entity/Q33'}}]}}"
      ]
     },
     "execution_count": 32,
     "metadata": {},
     "output_type": "execute_result"
    }
   ],
   "source": [
    "sparql_question(find_Q_by_label(topic), find_Q_by_label(\"instance of\"))"
   ]
  },
  {
   "cell_type": "code",
   "execution_count": null,
   "metadata": {},
   "outputs": [
    {
     "name": "stdout",
     "output_type": "stream",
     "text": [
      "Label: Berlin\n",
      "Description: federated state, capital and largest city of Germany\n",
      "Aliases: Berlin, Germany, Berlin (Germany), DE-BE\n"
     ]
    }
   ],
   "source": [
    "\n",
    "def get_wikidata_item(item_id):\n",
    "    # Wikidata API endpoint\n",
    "    url = \"https://www.wikidata.org/w/api.php\"\n",
    "    \n",
    "    # Parameters for the API request\n",
    "    params = {\n",
    "        \"action\": \"wbgetentities\",  # Action to get data about entities\n",
    "        \"ids\": item_id,  # ID of the Wikidata item (e.g., Q64 for Berlin)\n",
    "        \"format\": \"json\",  # Response format\n",
    "        \"props\": \"labels|descriptions|aliases\",  # Properties to retrieve: labels, descriptions, and aliases\n",
    "        \"languages\": \"en\"  # Language filter\n",
    "    }\n",
    "    \n",
    "    # Make the GET request to the Wikidata API\n",
    "    response = requests.get(url, params=params)\n",
    "    \n",
    "    # Check if the request was successful\n",
    "    if response.status_code == 200:\n",
    "        # Parse the JSON response\n",
    "        data = response.json()\n",
    "        \n",
    "        # Access the item's data\n",
    "        item_data = data['entities'][item_id]\n",
    "        \n",
    "        # Extract and print the label, description, and aliases\n",
    "        label = item_data['labels']['en']['value']\n",
    "        description = item_data['descriptions']['en']['value']\n",
    "        aliases = [alias['value'] for alias in item_data['aliases']['en']]\n",
    "        \n",
    "        print(f\"Label: {label}\")\n",
    "        print(f\"Description: {description}\")\n",
    "        print(f\"Aliases: {', '.join(aliases)}\")\n",
    "    else:\n",
    "        print(\"Failed to retrieve data\")\n",
    "\n",
    "# Example usage\n",
    "get_wikidata_item(\"Q64\")"
   ]
  }
 ],
 "metadata": {
  "kernelspec": {
   "display_name": "krr",
   "language": "python",
   "name": "python3"
  },
  "language_info": {
   "codemirror_mode": {
    "name": "ipython",
    "version": 3
   },
   "file_extension": ".py",
   "mimetype": "text/x-python",
   "name": "python",
   "nbconvert_exporter": "python",
   "pygments_lexer": "ipython3",
   "version": "3.12.1"
  }
 },
 "nbformat": 4,
 "nbformat_minor": 2
}
