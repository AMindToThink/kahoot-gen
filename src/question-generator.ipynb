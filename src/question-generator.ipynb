{
 "cells": [
  {
   "cell_type": "code",
   "execution_count": 1,
   "metadata": {},
   "outputs": [],
   "source": [
    "from question_generator_backend import *"
   ]
  },
  {
   "cell_type": "code",
   "execution_count": 2,
   "metadata": {},
   "outputs": [
    {
     "name": "stdout",
     "output_type": "stream",
     "text": [
      "- Multiple Items came up when you searched ' joe biden , Did you mean:\n",
      "- 1 President of the United States since 2021\n",
      "- 2 the government of the United States under President Joe Biden\n",
      "- 3 fictional parody character from The Onion loosely based on the real Joe Biden\n",
      "- 4 2020 United States presidential campaign of Joe Biden\n",
      "- 5 Wikimedia category\n",
      "- 6 U.S. presidential admistration since 2021\n",
      "- 7 2024 United States presidential campaign of Joe Biden\n",
      "- 8 the inaugural address of Joe Biden\n",
      "- 9 List of elections featuring Joe Biden as a candidate\n",
      "- 10 59th United States presidential inauguration\n",
      "The user input is: 1\n",
      "The selected answer: President of the United States since 2021 and the Qid: Q6279\n",
      "- Multiple Items came up when you searched ' donald trump , Did you mean:\n",
      "- 1 45th President of the United States of America from 2017 to 2021\n",
      "- 2 American physician\n",
      "- 3 American businessman and reality television personality\n",
      "- 4 U.S. presidential administration from 2017 to 2021\n",
      "- 5 2024 shooting of Donald Trump and other victims in Butler County, Pennsylvania\n",
      "- 6 2016 United States presidential campaign of Donald Trump\n",
      "- 7 political protests against Donald Trump\n",
      "- 8 first impeachment inquiry against U.S. President Donald Trump\n",
      "- 9 son of Donald Trump Jr.\n",
      "- 10 Wikimedia category\n",
      "The user input is: 1\n",
      "The selected answer: 45th President of the United States of America from 2017 to 2021 and the Qid: Q22686\n",
      "Which of the following is a category that joe biden, and donald trump all belong to\n",
      "1. artist\n",
      "2. songwriter\n",
      "3. composer\n",
      "4. writer\n",
      "You are correct!\n"
     ]
    }
   ],
   "source": [
    "cat_q = generator.category_question([\"joe biden\", \"donald trump\"])\n",
    "# question_answer(cat_q)"
   ]
  },
  {
   "cell_type": "code",
   "execution_count": 9,
   "metadata": {},
   "outputs": [
    {
     "name": "stdout",
     "output_type": "stream",
     "text": [
      "- Multiple Items came up when you searched ' Earth , Did you mean:\n",
      "- 1 third planet from the Sun in the Solar System\n",
      "- 2 planet Earth as depicted in the 1987–1996 Teenage Mutant Ninja Turtles animated television series\n",
      "- 3 fields of science dealing with planet Earth and its nearby planets in space\n",
      "- 4 virtual map program developed by Google\n",
      "- 5 planet Earth as depicted in Teenage Mutant Ninja Turtles\n",
      "- 6 planet Earth as depicted in the 2003–2009 Teenage Mutant Ninja Turtles animated television series\n",
      "- 7 planet Earth as depicted in the Teenage Mutant Ninja Turtles Adventures and Mutanimals Comics\n",
      "- 8 planet Earth as depicted in the 2012–2017 Teenage Mutant Ninja Turtles animated television series\n",
      "- 9 program run by NASA and the Jet Propulsion Laboratory to discover near Earth objects\n",
      "- 10 research project, collaboration between the U.S. Air Force, NASA, and the Massachusetts Institute of Technology&#039;s Lincoln Laboratory\n",
      "The user input is: 1\n",
      "The selected answer: third planet from the Sun in the Solar System and the Qid: Q2\n",
      "Which of the following is a named after land?\n",
      "['Q8070', 'Q3230', 'Q405', 'Q2']\n",
      "1. tsunami\n",
      "2. atmosphere of Earth\n",
      "3. Moon\n",
      "4. Earth\n"
     ]
    },
    {
     "ename": "ValueError",
     "evalue": "invalid literal for int() with base 10: ''",
     "output_type": "error",
     "traceback": [
      "\u001b[0;31m---------------------------------------------------------------------------\u001b[0m",
      "\u001b[0;31mValueError\u001b[0m                                Traceback (most recent call last)",
      "Cell \u001b[0;32mIn[9], line 2\u001b[0m\n\u001b[1;32m      1\u001b[0m my_question \u001b[38;5;241m=\u001b[39m generator\u001b[38;5;241m.\u001b[39melement_question(\u001b[38;5;124m\"\u001b[39m\u001b[38;5;124mEarth\u001b[39m\u001b[38;5;124m\"\u001b[39m, \u001b[38;5;241m3\u001b[39m, \u001b[38;5;28;01mFalse\u001b[39;00m)\n\u001b[0;32m----> 2\u001b[0m \u001b[43mquestion_answer\u001b[49m\u001b[43m(\u001b[49m\u001b[43mmy_question\u001b[49m\u001b[43m)\u001b[49m\n",
      "Cell \u001b[0;32mIn[6], line 5\u001b[0m, in \u001b[0;36mquestion_answer\u001b[0;34m(question)\u001b[0m\n\u001b[1;32m      2\u001b[0m generator\u001b[38;5;241m.\u001b[39mprint_question(question)\n\u001b[1;32m      3\u001b[0m time\u001b[38;5;241m.\u001b[39msleep(\u001b[38;5;241m0.2\u001b[39m)\n\u001b[0;32m----> 5\u001b[0m answer \u001b[38;5;241m=\u001b[39m \u001b[38;5;28;43mint\u001b[39;49m\u001b[43m(\u001b[49m\u001b[38;5;28;43minput\u001b[39;49m\u001b[43m(\u001b[49m\u001b[38;5;124;43m\"\u001b[39;49m\u001b[38;5;124;43mWhat is your answer?\u001b[39;49m\u001b[38;5;124;43m\"\u001b[39;49m\u001b[43m)\u001b[49m\u001b[43m)\u001b[49m \u001b[38;5;241m-\u001b[39m \u001b[38;5;241m1\u001b[39m\n\u001b[1;32m      6\u001b[0m user_answer \u001b[38;5;241m=\u001b[39m generator\u001b[38;5;241m.\u001b[39mfind_label_by_ID(question\u001b[38;5;241m.\u001b[39mall_answers[answer])\n\u001b[1;32m      7\u001b[0m \u001b[38;5;28mprint\u001b[39m(\u001b[38;5;124mf\u001b[39m\u001b[38;5;124m\"\u001b[39m\u001b[38;5;124mYour answer was \u001b[39m\u001b[38;5;132;01m{\u001b[39;00muser_answer\u001b[38;5;132;01m}\u001b[39;00m\u001b[38;5;124m\"\u001b[39m)\n",
      "\u001b[0;31mValueError\u001b[0m: invalid literal for int() with base 10: ''"
     ]
    }
   ],
   "source": [
    "my_question = generator.element_question(\"Earth\", 3, False)\n",
    "question_answer(my_question)"
   ]
  },
  {
   "cell_type": "code",
   "execution_count": 9,
   "metadata": {},
   "outputs": [
    {
     "name": "stdout",
     "output_type": "stream",
     "text": [
      "Which of the following is a occupation mathematician?\n",
      "['Q935', 'Q11133', 'Q410', 'Q11821']\n",
      "1. Isaac Newton\n",
      "2. Abū Ishāq Ibrāhīm al-Zarqālī\n",
      "3. Carl Sagan\n",
      "4. Sergey Belyavsky\n",
      "Your answer was Isaac Newton\n",
      "You are correct!\n"
     ]
    }
   ],
   "source": [
    "question_answer(my_question)"
   ]
  },
  {
   "cell_type": "code",
   "execution_count": null,
   "metadata": {},
   "outputs": [],
   "source": []
  }
 ],
 "metadata": {
  "kernelspec": {
   "display_name": "krr",
   "language": "python",
   "name": "python3"
  },
  "language_info": {
   "codemirror_mode": {
    "name": "ipython",
    "version": 3
   },
   "file_extension": ".py",
   "mimetype": "text/x-python",
   "name": "python",
   "nbconvert_exporter": "python",
   "pygments_lexer": "ipython3",
   "version": "3.12.1"
  }
 },
 "nbformat": 4,
 "nbformat_minor": 2
}
