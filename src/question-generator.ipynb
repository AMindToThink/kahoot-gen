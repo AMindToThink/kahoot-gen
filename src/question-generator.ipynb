{
 "cells": [
  {
   "cell_type": "code",
   "execution_count": 62,
   "metadata": {},
   "outputs": [],
   "source": [
    "import requests\n",
    "from SPARQLWrapper import SPARQLWrapper, JSON\n",
    "import pandas"
   ]
  },
  {
   "cell_type": "code",
   "execution_count": 63,
   "metadata": {},
   "outputs": [
    {
     "name": "stdout",
     "output_type": "stream",
     "text": [
      "On what topic do you want questions?\n",
      "How many questions do you want?\n"
     ]
    },
    {
     "ename": "ValueError",
     "evalue": "invalid literal for int() with base 10: ''",
     "output_type": "error",
     "traceback": [
      "\u001b[0;31m---------------------------------------------------------------------------\u001b[0m",
      "\u001b[0;31mValueError\u001b[0m                                Traceback (most recent call last)",
      "Cell \u001b[0;32mIn[63], line 4\u001b[0m\n\u001b[1;32m      2\u001b[0m topic \u001b[38;5;241m=\u001b[39m \u001b[38;5;28minput\u001b[39m()\n\u001b[1;32m      3\u001b[0m \u001b[38;5;28mprint\u001b[39m(\u001b[38;5;124m\"\u001b[39m\u001b[38;5;124mHow many questions do you want?\u001b[39m\u001b[38;5;124m\"\u001b[39m)\n\u001b[0;32m----> 4\u001b[0m num_questions \u001b[38;5;241m=\u001b[39m \u001b[38;5;28;43mint\u001b[39;49m\u001b[43m(\u001b[49m\u001b[38;5;28;43minput\u001b[39;49m\u001b[43m(\u001b[49m\u001b[43m)\u001b[49m\u001b[43m)\u001b[49m\n",
      "\u001b[0;31mValueError\u001b[0m: invalid literal for int() with base 10: ''"
     ]
    }
   ],
   "source": [
    "print(\"On what topic do you want questions?\")\n",
    "topic = input()\n",
    "print(\"How many questions do you want?\")\n",
    "num_questions = int(input())"
   ]
  },
  {
   "cell_type": "code",
   "execution_count": 64,
   "metadata": {},
   "outputs": [],
   "source": [
    "sparql = SPARQLWrapper(\"https://query.wikidata.org/sparql\")"
   ]
  },
  {
   "cell_type": "code",
   "execution_count": 65,
   "metadata": {},
   "outputs": [],
   "source": [
    "wikidata_property_example = \"P1855\""
   ]
  },
  {
   "cell_type": "code",
   "execution_count": 66,
   "metadata": {},
   "outputs": [],
   "source": [
    "def display_as_table(results):\n",
    "    df = pandas.DataFrame.from_dict(results[\"results\"][\"bindings\"])\n",
    "    df = df.applymap(lambda x: x[\"value\"])\n",
    "    print(df)"
   ]
  },
  {
   "cell_type": "code",
   "execution_count": 67,
   "metadata": {},
   "outputs": [],
   "source": [
    "def find_uri_by_label(label):\n",
    "    sparql = SPARQLWrapper(\"https://query.wikidata.org/sparql\")\n",
    "    \n",
    "    # SPARQL query to find the URI for a given label\n",
    "    query = \"\"\"\n",
    "    SELECT ?item WHERE {\n",
    "      ?item rdfs:label \"%s\"@en.\n",
    "      SERVICE wikibase:label { bd:serviceParam wikibase:language \"[AUTO_LANGUAGE],en\". }\n",
    "    }\n",
    "    LIMIT 1\n",
    "    \"\"\" % label.replace('\"', '\\\"')  # Basic string sanitization\n",
    "    \n",
    "    sparql.setQuery(query)\n",
    "    sparql.setReturnFormat(JSON)\n",
    "    \n",
    "    try:\n",
    "        results = sparql.query().convert()\n",
    "        for result in results[\"results\"][\"bindings\"]:\n",
    "            return result[\"item\"][\"value\"]  # Return the first matching URI\n",
    "    except Exception as e:\n",
    "        print(f\"An error occurred: {e}\")\n",
    "        return None"
   ]
  },
  {
   "cell_type": "code",
   "execution_count": 68,
   "metadata": {},
   "outputs": [],
   "source": [
    "def run_sparql(sparql_query):\n",
    "    print(sparql_query)\n",
    "    # Set the query and the return format (JSON)\n",
    "    sparql.setQuery(sparql_query)\n",
    "    sparql.setReturnFormat(JSON)\n",
    "\n",
    "    # Perform the query and convert the result to a Python dictionary\n",
    "    results = sparql.query().convert()\n",
    "    return results"
   ]
  },
  {
   "cell_type": "code",
   "execution_count": 69,
   "metadata": {},
   "outputs": [],
   "source": [
    "def find_Q_by_uri(uri):\n",
    "    return uri.split(\"/\")[-1]"
   ]
  },
  {
   "cell_type": "code",
   "execution_count": 70,
   "metadata": {},
   "outputs": [],
   "source": [
    "def find_Q_by_label(label):\n",
    "    return find_Q_by_uri(find_uri_by_label(label))"
   ]
  },
  {
   "cell_type": "code",
   "execution_count": 85,
   "metadata": {},
   "outputs": [],
   "source": [
    "# I checked all of the ?predicates offered by ChatGPT and they are sensible\n",
    "sensible_sister_predicates = \"wdt:P279 wdt:P31 wdt:P361 wdt:P101 wdt:P361 wdt:P921 wdt:P131 wdt:P150 wdt:P21\"\n",
    "def sister_topic(topicQ, predicates=sensible_sister_predicates):\n",
    "    \n",
    "    # SPARQL query to find topics that are similar to the given topic\n",
    "    query = \"\"\"\n",
    "    SELECT DISTINCT ?item WHERE {\n",
    "        VALUES ?predicates { \"\"\" + predicates + \"\"\" }\n",
    "        wd:\"\"\" + topicQ +  \"\"\" ?predicates ?class.\n",
    "        ?item ?predicates ?class.\n",
    "        FILTER(?item != wd:\"\"\" + topicQ +  \"\"\")\n",
    "        \n",
    "        SERVICE wikibase:label { bd:serviceParam wikibase:language \"[AUTO_LANGUAGE],en\". }\n",
    "    }\n",
    "    LIMIT 10\n",
    "    \"\"\"\n",
    "    return run_sparql(query)"
   ]
  },
  {
   "cell_type": "code",
   "execution_count": 86,
   "metadata": {},
   "outputs": [
    {
     "name": "stdout",
     "output_type": "stream",
     "text": [
      "\n",
      "    SELECT DISTINCT ?item WHERE {\n",
      "        VALUES ?predicates { wdt:P279 wdt:P31 wdt:P361 wdt:P101 wdt:P361 wdt:P921 wdt:P131 wdt:P150 wdt:P21 }\n",
      "        wd:Q190 ?predicates ?class.\n",
      "        ?item ?predicates ?class.\n",
      "        FILTER(?item != wd:Q190)\n",
      "        \n",
      "        SERVICE wikibase:label { bd:serviceParam wikibase:language \"[AUTO_LANGUAGE],en\". }\n",
      "    }\n",
      "    LIMIT 10\n",
      "    \n",
      "                                     item\n",
      "0   http://www.wikidata.org/entity/Q71684\n",
      "1   http://www.wikidata.org/entity/Q75799\n",
      "2   http://www.wikidata.org/entity/Q82198\n",
      "3   http://www.wikidata.org/entity/Q83090\n",
      "4   http://www.wikidata.org/entity/Q86901\n",
      "5  http://www.wikidata.org/entity/Q105173\n",
      "6  http://www.wikidata.org/entity/Q106782\n",
      "7  http://www.wikidata.org/entity/Q118289\n",
      "8  http://www.wikidata.org/entity/Q127570\n",
      "9  http://www.wikidata.org/entity/Q128593\n"
     ]
    },
    {
     "name": "stderr",
     "output_type": "stream",
     "text": [
      "/var/folders/g_/12fwrqfs2lgcf9rnql4m440dx849vl/T/ipykernel_27706/1413346344.py:3: FutureWarning: DataFrame.applymap has been deprecated. Use DataFrame.map instead.\n",
      "  df = df.applymap(lambda x: x[\"value\"])\n"
     ]
    }
   ],
   "source": [
    "display_as_table(sister_topic(find_Q_by_label(\"God\")))"
   ]
  },
  {
   "cell_type": "code",
   "execution_count": 87,
   "metadata": {},
   "outputs": [],
   "source": [
    "def sparql_question(topicQ, predicateQ):\n",
    "    # Define the SPARQL query\n",
    "    sparql_query = \"\"\"\n",
    "    SELECT ?thing WHERE {\n",
    "      \n",
    "    ?thing\"\"\" + \" wdt:\" + predicateQ + \" wd:\" + topicQ + \"\"\".\n",
    "\n",
    "    SERVICE wikibase:label { bd:serviceParam wikibase:language \"[AUTO_LANGUAGE],en\". }\n",
    "    }\n",
    "    LIMIT 10\n",
    "    \"\"\"\n",
    "    print(\"running query: \" + sparql_query)\n",
    "\n",
    "    return run_sparql(sparql_query)"
   ]
  },
  {
   "cell_type": "code",
   "execution_count": 21,
   "metadata": {},
   "outputs": [
    {
     "data": {
      "text/plain": [
       "'Q3624078'"
      ]
     },
     "execution_count": 21,
     "metadata": {},
     "output_type": "execute_result"
    }
   ],
   "source": [
    "find_Q_by_label(topic)"
   ]
  },
  {
   "cell_type": "code",
   "execution_count": 32,
   "metadata": {},
   "outputs": [
    {
     "name": "stdout",
     "output_type": "stream",
     "text": [
      "running query: \n",
      "    SELECT ?thing WHERE {\n",
      "      \n",
      "    ?thing wdt:P31 wd:Q3624078.\n",
      "\n",
      "    SERVICE wikibase:label { bd:serviceParam wikibase:language \"[AUTO_LANGUAGE],en\". }\n",
      "    }\n",
      "    LIMIT 10\n",
      "    \n"
     ]
    },
    {
     "data": {
      "text/plain": [
       "{'head': {'vars': ['thing']},\n",
       " 'results': {'bindings': [{'thing': {'type': 'uri',\n",
       "     'value': 'http://www.wikidata.org/entity/Q16'}},\n",
       "   {'thing': {'type': 'uri', 'value': 'http://www.wikidata.org/entity/Q17'}},\n",
       "   {'thing': {'type': 'uri', 'value': 'http://www.wikidata.org/entity/Q20'}},\n",
       "   {'thing': {'type': 'uri', 'value': 'http://www.wikidata.org/entity/Q27'}},\n",
       "   {'thing': {'type': 'uri', 'value': 'http://www.wikidata.org/entity/Q28'}},\n",
       "   {'thing': {'type': 'uri', 'value': 'http://www.wikidata.org/entity/Q29'}},\n",
       "   {'thing': {'type': 'uri', 'value': 'http://www.wikidata.org/entity/Q30'}},\n",
       "   {'thing': {'type': 'uri', 'value': 'http://www.wikidata.org/entity/Q31'}},\n",
       "   {'thing': {'type': 'uri', 'value': 'http://www.wikidata.org/entity/Q32'}},\n",
       "   {'thing': {'type': 'uri', 'value': 'http://www.wikidata.org/entity/Q33'}}]}}"
      ]
     },
     "execution_count": 32,
     "metadata": {},
     "output_type": "execute_result"
    }
   ],
   "source": [
    "sparql_question(find_Q_by_label(topic), find_Q_by_label(\"instance of\"))"
   ]
  },
  {
   "cell_type": "code",
   "execution_count": null,
   "metadata": {},
   "outputs": [
    {
     "name": "stdout",
     "output_type": "stream",
     "text": [
      "Label: Berlin\n",
      "Description: federated state, capital and largest city of Germany\n",
      "Aliases: Berlin, Germany, Berlin (Germany), DE-BE\n"
     ]
    }
   ],
   "source": [
    "\n",
    "def get_wikidata_item(item_id):\n",
    "    # Wikidata API endpoint\n",
    "    url = \"https://www.wikidata.org/w/api.php\"\n",
    "    \n",
    "    # Parameters for the API request\n",
    "    params = {\n",
    "        \"action\": \"wbgetentities\",  # Action to get data about entities\n",
    "        \"ids\": item_id,  # ID of the Wikidata item (e.g., Q64 for Berlin)\n",
    "        \"format\": \"json\",  # Response format\n",
    "        \"props\": \"labels|descriptions|aliases\",  # Properties to retrieve: labels, descriptions, and aliases\n",
    "        \"languages\": \"en\"  # Language filter\n",
    "    }\n",
    "    \n",
    "    # Make the GET request to the Wikidata API\n",
    "    response = requests.get(url, params=params)\n",
    "    \n",
    "    # Check if the request was successful\n",
    "    if response.status_code == 200:\n",
    "        # Parse the JSON response\n",
    "        data = response.json()\n",
    "        \n",
    "        # Access the item's data\n",
    "        item_data = data['entities'][item_id]\n",
    "        \n",
    "        # Extract and print the label, description, and aliases\n",
    "        label = item_data['labels']['en']['value']\n",
    "        description = item_data['descriptions']['en']['value']\n",
    "        aliases = [alias['value'] for alias in item_data['aliases']['en']]\n",
    "        \n",
    "        print(f\"Label: {label}\")\n",
    "        print(f\"Description: {description}\")\n",
    "        print(f\"Aliases: {', '.join(aliases)}\")\n",
    "    else:\n",
    "        print(\"Failed to retrieve data\")\n",
    "\n",
    "# Example usage\n",
    "get_wikidata_item(\"Q64\")"
   ]
  }
 ],
 "metadata": {
  "kernelspec": {
   "display_name": "krr",
   "language": "python",
   "name": "python3"
  },
  "language_info": {
   "codemirror_mode": {
    "name": "ipython",
    "version": 3
   },
   "file_extension": ".py",
   "mimetype": "text/x-python",
   "name": "python",
   "nbconvert_exporter": "python",
   "pygments_lexer": "ipython3",
   "version": "3.12.1"
  }
 },
 "nbformat": 4,
 "nbformat_minor": 2
}
