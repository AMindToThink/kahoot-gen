{
 "cells": [
  {
   "cell_type": "code",
   "execution_count": 8,
   "metadata": {},
   "outputs": [],
   "source": [
    "import requests\n",
    "from SPARQLWrapper import SPARQLWrapper, JSON"
   ]
  },
  {
   "cell_type": "code",
   "execution_count": 9,
   "metadata": {},
   "outputs": [
    {
     "name": "stdout",
     "output_type": "stream",
     "text": [
      "On what topic do you want questions?\n",
      "How many questions do you want?\n"
     ]
    }
   ],
   "source": [
    "print(\"On what topic do you want questions?\")\n",
    "topic = input()\n",
    "print(\"How many questions do you want?\")\n",
    "num_questions = int(input())"
   ]
  },
  {
   "cell_type": "code",
   "execution_count": 10,
   "metadata": {},
   "outputs": [],
   "source": [
    "sparql = SPARQLWrapper(\"https://query.wikidata.org/sparql\")"
   ]
  },
  {
   "cell_type": "code",
   "execution_count": 11,
   "metadata": {},
   "outputs": [],
   "source": [
    "def find_uri_by_label(label):\n",
    "    sparql = SPARQLWrapper(\"https://query.wikidata.org/sparql\")\n",
    "    \n",
    "    # SPARQL query to find the URI for a given label\n",
    "    query = \"\"\"\n",
    "    SELECT ?item WHERE {\n",
    "      ?item rdfs:label \"%s\"@en.\n",
    "      SERVICE wikibase:label { bd:serviceParam wikibase:language \"[AUTO_LANGUAGE],en\". }\n",
    "    }\n",
    "    LIMIT 1\n",
    "    \"\"\" % label.replace('\"', '\\\"')  # Basic string sanitization\n",
    "    \n",
    "    sparql.setQuery(query)\n",
    "    sparql.setReturnFormat(JSON)\n",
    "    \n",
    "    try:\n",
    "        results = sparql.query().convert()\n",
    "        for result in results[\"results\"][\"bindings\"]:\n",
    "            return result[\"item\"][\"value\"]  # Return the first matching URI\n",
    "    except Exception as e:\n",
    "        print(f\"An error occurred: {e}\")\n",
    "        return None"
   ]
  },
  {
   "cell_type": "code",
   "execution_count": 19,
   "metadata": {},
   "outputs": [],
   "source": [
    "def find_Q_by_uri(uri):\n",
    "    return uri.split(\"/\")[-1]"
   ]
  },
  {
   "cell_type": "code",
   "execution_count": 20,
   "metadata": {},
   "outputs": [],
   "source": [
    "def find_Q_by_label(label):\n",
    "    return find_Q_by_uri(find_uri_by_label(label))"
   ]
  },
  {
   "cell_type": "code",
   "execution_count": 31,
   "metadata": {},
   "outputs": [],
   "source": [
    "def sparql_question(topicQ, predicateQ):\n",
    "    # Define the SPARQL query\n",
    "    sparql_query = \"\"\"\n",
    "    SELECT ?thing WHERE {\n",
    "      \n",
    "    ?thing\"\"\" + \" wdt:\" + predicateQ + \" wd:\" + topicQ + \"\"\".\n",
    "\n",
    "    SERVICE wikibase:label { bd:serviceParam wikibase:language \"[AUTO_LANGUAGE],en\". }\n",
    "    }\n",
    "    LIMIT 10\n",
    "    \"\"\"\n",
    "    print(\"running query: \" + sparql_query)\n",
    "\n",
    "    # Set the query and the return format (JSON)\n",
    "    sparql.setQuery(sparql_query)\n",
    "    sparql.setReturnFormat(JSON)\n",
    "\n",
    "    # Perform the query and convert the result to a Python dictionary\n",
    "    results = sparql.query().convert()\n",
    "    return results"
   ]
  },
  {
   "cell_type": "code",
   "execution_count": 21,
   "metadata": {},
   "outputs": [
    {
     "data": {
      "text/plain": [
       "'Q3624078'"
      ]
     },
     "execution_count": 21,
     "metadata": {},
     "output_type": "execute_result"
    }
   ],
   "source": [
    "find_Q_by_label(topic)"
   ]
  },
  {
   "cell_type": "code",
   "execution_count": 32,
   "metadata": {},
   "outputs": [
    {
     "name": "stdout",
     "output_type": "stream",
     "text": [
      "running query: \n",
      "    SELECT ?thing WHERE {\n",
      "      \n",
      "    ?thing wdt:P31 wd:Q3624078.\n",
      "\n",
      "    SERVICE wikibase:label { bd:serviceParam wikibase:language \"[AUTO_LANGUAGE],en\". }\n",
      "    }\n",
      "    LIMIT 10\n",
      "    \n"
     ]
    },
    {
     "data": {
      "text/plain": [
       "{'head': {'vars': ['thing']},\n",
       " 'results': {'bindings': [{'thing': {'type': 'uri',\n",
       "     'value': 'http://www.wikidata.org/entity/Q16'}},\n",
       "   {'thing': {'type': 'uri', 'value': 'http://www.wikidata.org/entity/Q17'}},\n",
       "   {'thing': {'type': 'uri', 'value': 'http://www.wikidata.org/entity/Q20'}},\n",
       "   {'thing': {'type': 'uri', 'value': 'http://www.wikidata.org/entity/Q27'}},\n",
       "   {'thing': {'type': 'uri', 'value': 'http://www.wikidata.org/entity/Q28'}},\n",
       "   {'thing': {'type': 'uri', 'value': 'http://www.wikidata.org/entity/Q29'}},\n",
       "   {'thing': {'type': 'uri', 'value': 'http://www.wikidata.org/entity/Q30'}},\n",
       "   {'thing': {'type': 'uri', 'value': 'http://www.wikidata.org/entity/Q31'}},\n",
       "   {'thing': {'type': 'uri', 'value': 'http://www.wikidata.org/entity/Q32'}},\n",
       "   {'thing': {'type': 'uri', 'value': 'http://www.wikidata.org/entity/Q33'}}]}}"
      ]
     },
     "execution_count": 32,
     "metadata": {},
     "output_type": "execute_result"
    }
   ],
   "source": [
    "sparql_question(find_Q_by_label(topic), find_Q_by_label(\"instance of\"))"
   ]
  },
  {
   "cell_type": "code",
   "execution_count": null,
   "metadata": {},
   "outputs": [
    {
     "name": "stdout",
     "output_type": "stream",
     "text": [
      "Label: Berlin\n",
      "Description: federated state, capital and largest city of Germany\n",
      "Aliases: Berlin, Germany, Berlin (Germany), DE-BE\n"
     ]
    }
   ],
   "source": [
    "\n",
    "def get_wikidata_item(item_id):\n",
    "    # Wikidata API endpoint\n",
    "    url = \"https://www.wikidata.org/w/api.php\"\n",
    "    \n",
    "    # Parameters for the API request\n",
    "    params = {\n",
    "        \"action\": \"wbgetentities\",  # Action to get data about entities\n",
    "        \"ids\": item_id,  # ID of the Wikidata item (e.g., Q64 for Berlin)\n",
    "        \"format\": \"json\",  # Response format\n",
    "        \"props\": \"labels|descriptions|aliases\",  # Properties to retrieve: labels, descriptions, and aliases\n",
    "        \"languages\": \"en\"  # Language filter\n",
    "    }\n",
    "    \n",
    "    # Make the GET request to the Wikidata API\n",
    "    response = requests.get(url, params=params)\n",
    "    \n",
    "    # Check if the request was successful\n",
    "    if response.status_code == 200:\n",
    "        # Parse the JSON response\n",
    "        data = response.json()\n",
    "        \n",
    "        # Access the item's data\n",
    "        item_data = data['entities'][item_id]\n",
    "        \n",
    "        # Extract and print the label, description, and aliases\n",
    "        label = item_data['labels']['en']['value']\n",
    "        description = item_data['descriptions']['en']['value']\n",
    "        aliases = [alias['value'] for alias in item_data['aliases']['en']]\n",
    "        \n",
    "        print(f\"Label: {label}\")\n",
    "        print(f\"Description: {description}\")\n",
    "        print(f\"Aliases: {', '.join(aliases)}\")\n",
    "    else:\n",
    "        print(\"Failed to retrieve data\")\n",
    "\n",
    "# Example usage\n",
    "get_wikidata_item(\"Q64\")"
   ]
  }
 ],
 "metadata": {
  "kernelspec": {
   "display_name": "krr",
   "language": "python",
   "name": "python3"
  },
  "language_info": {
   "codemirror_mode": {
    "name": "ipython",
    "version": 3
   },
   "file_extension": ".py",
   "mimetype": "text/x-python",
   "name": "python",
   "nbconvert_exporter": "python",
   "pygments_lexer": "ipython3",
   "version": "3.12.1"
  }
 },
 "nbformat": 4,
 "nbformat_minor": 2
}
