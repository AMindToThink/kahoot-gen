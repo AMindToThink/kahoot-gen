{
 "cells": [
  {
   "cell_type": "code",
   "execution_count": 1,
   "metadata": {},
   "outputs": [
    {
     "name": "stdout",
     "output_type": "stream",
     "text": [
      "Label: Berlin\n",
      "Description: federated state, capital and largest city of Germany\n",
      "Aliases: Berlin, Germany, Berlin (Germany), DE-BE\n"
     ]
    }
   ],
   "source": [
    "import requests\n",
    "\n",
    "def get_wikidata_item(item_id):\n",
    "    # Wikidata API endpoint\n",
    "    url = \"https://www.wikidata.org/w/api.php\"\n",
    "    \n",
    "    # Parameters for the API request\n",
    "    params = {\n",
    "        \"action\": \"wbgetentities\",  # Action to get data about entities\n",
    "        \"ids\": item_id,  # ID of the Wikidata item (e.g., Q64 for Berlin)\n",
    "        \"format\": \"json\",  # Response format\n",
    "        \"props\": \"labels|descriptions|aliases\",  # Properties to retrieve: labels, descriptions, and aliases\n",
    "        \"languages\": \"en\"  # Language filter\n",
    "    }\n",
    "    \n",
    "    # Make the GET request to the Wikidata API\n",
    "    response = requests.get(url, params=params)\n",
    "    \n",
    "    # Check if the request was successful\n",
    "    if response.status_code == 200:\n",
    "        # Parse the JSON response\n",
    "        data = response.json()\n",
    "        \n",
    "        # Access the item's data\n",
    "        item_data = data['entities'][item_id]\n",
    "        \n",
    "        # Extract and print the label, description, and aliases\n",
    "        label = item_data['labels']['en']['value']\n",
    "        description = item_data['descriptions']['en']['value']\n",
    "        aliases = [alias['value'] for alias in item_data['aliases']['en']]\n",
    "        \n",
    "        print(f\"Label: {label}\")\n",
    "        print(f\"Description: {description}\")\n",
    "        print(f\"Aliases: {', '.join(aliases)}\")\n",
    "    else:\n",
    "        print(\"Failed to retrieve data\")\n",
    "\n",
    "# Example usage\n",
    "get_wikidata_item(\"Q64\")\n"
   ]
  }
 ],
 "metadata": {
  "kernelspec": {
   "display_name": "krr",
   "language": "python",
   "name": "python3"
  },
  "language_info": {
   "codemirror_mode": {
    "name": "ipython",
    "version": 3
   },
   "file_extension": ".py",
   "mimetype": "text/x-python",
   "name": "python",
   "nbconvert_exporter": "python",
   "pygments_lexer": "ipython3",
   "version": "3.12.1"
  }
 },
 "nbformat": 4,
 "nbformat_minor": 2
}
